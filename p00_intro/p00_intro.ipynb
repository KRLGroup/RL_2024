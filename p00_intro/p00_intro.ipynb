{
 "cells": [
  {
   "cell_type": "markdown",
   "id": "9a56ab97",
   "metadata": {},
   "source": [
    "## Printing"
   ]
  },
  {
   "cell_type": "code",
   "execution_count": 4,
   "id": "0d20b952",
   "metadata": {},
   "outputs": [
    {
     "name": "stdout",
     "output_type": "stream",
     "text": [
      "Hello, World\n"
     ]
    }
   ],
   "source": [
    "print(\"Hello, World\")"
   ]
  },
  {
   "cell_type": "markdown",
   "id": "89c99567",
   "metadata": {},
   "source": [
    "## Types"
   ]
  },
  {
   "cell_type": "code",
   "execution_count": 5,
   "id": "76898ffb",
   "metadata": {},
   "outputs": [],
   "source": [
    "s = \"I am a String\""
   ]
  },
  {
   "cell_type": "code",
   "execution_count": 6,
   "id": "aba51a2e",
   "metadata": {},
   "outputs": [
    {
     "name": "stdout",
     "output_type": "stream",
     "text": [
      "<class 'int'>\n"
     ]
    }
   ],
   "source": [
    "i = 55 # <- this is an integer\n",
    "print(type(i))"
   ]
  },
  {
   "cell_type": "code",
   "execution_count": 7,
   "id": "1fa84d95",
   "metadata": {},
   "outputs": [
    {
     "name": "stdout",
     "output_type": "stream",
     "text": [
      "<class 'float'>\n"
     ]
    }
   ],
   "source": [
    "f = 2. # <- this is a float\n",
    "print(type(f))"
   ]
  },
  {
   "cell_type": "code",
   "execution_count": 8,
   "id": "8c79e07a",
   "metadata": {},
   "outputs": [
    {
     "name": "stdout",
     "output_type": "stream",
     "text": [
      "57.0\n",
      "-53.0\n",
      "110.0\n",
      "27.5\n",
      "27.0\n"
     ]
    }
   ],
   "source": [
    "print(f+i)\n",
    "print(f-i)\n",
    "print(f*i)\n",
    "print(i/f)\n",
    "print(i//f)"
   ]
  },
  {
   "cell_type": "code",
   "execution_count": 9,
   "id": "fa8328c8",
   "metadata": {},
   "outputs": [
    {
     "name": "stdout",
     "output_type": "stream",
     "text": [
      "[1, 2, 3, '5']\n"
     ]
    }
   ],
   "source": [
    "l = [1,2,3,\"5\"]\n",
    "print(l)"
   ]
  },
  {
   "cell_type": "code",
   "execution_count": 10,
   "id": "6f2d725a",
   "metadata": {},
   "outputs": [
    {
     "data": {
      "text/plain": [
       "4"
      ]
     },
     "execution_count": 10,
     "metadata": {},
     "output_type": "execute_result"
    }
   ],
   "source": [
    "len(l)"
   ]
  },
  {
   "cell_type": "code",
   "execution_count": 11,
   "id": "aaf0cfbf",
   "metadata": {},
   "outputs": [],
   "source": [
    "l.append(4)"
   ]
  },
  {
   "cell_type": "code",
   "execution_count": 12,
   "id": "e2a1e984",
   "metadata": {},
   "outputs": [
    {
     "data": {
      "text/plain": [
       "[1, 2, 3, '5', 4]"
      ]
     },
     "execution_count": 12,
     "metadata": {},
     "output_type": "execute_result"
    }
   ],
   "source": [
    "l"
   ]
  },
  {
   "cell_type": "code",
   "execution_count": 13,
   "id": "89e09ab5",
   "metadata": {},
   "outputs": [
    {
     "data": {
      "text/plain": [
       "[1, 3]"
      ]
     },
     "execution_count": 13,
     "metadata": {},
     "output_type": "execute_result"
    }
   ],
   "source": [
    "l[0:4:2]"
   ]
  },
  {
   "cell_type": "code",
   "execution_count": 14,
   "id": "a94ff9e3",
   "metadata": {},
   "outputs": [
    {
     "name": "stdout",
     "output_type": "stream",
     "text": [
      "(1, 2, 3)\n"
     ]
    },
    {
     "ename": "AttributeError",
     "evalue": "'tuple' object has no attribute 'append'",
     "output_type": "error",
     "traceback": [
      "\u001b[0;31m---------------------------------------------------------------------------\u001b[0m",
      "\u001b[0;31mAttributeError\u001b[0m                            Traceback (most recent call last)",
      "\u001b[1;32m/home/andrea/Documents/Teaching/RL/RL-tutors/2023-2024/practicals/p00_intro/Intro.ipynb Cell 13\u001b[0m line \u001b[0;36m3\n\u001b[1;32m      <a href='vscode-notebook-cell:/home/andrea/Documents/Teaching/RL/RL-tutors/2023-2024/practicals/p00_intro/Intro.ipynb#X15sZmlsZQ%3D%3D?line=0'>1</a>\u001b[0m t \u001b[39m=\u001b[39m (\u001b[39m1\u001b[39m,\u001b[39m2\u001b[39m,\u001b[39m3\u001b[39m)\n\u001b[1;32m      <a href='vscode-notebook-cell:/home/andrea/Documents/Teaching/RL/RL-tutors/2023-2024/practicals/p00_intro/Intro.ipynb#X15sZmlsZQ%3D%3D?line=1'>2</a>\u001b[0m \u001b[39mprint\u001b[39m(t)\n\u001b[0;32m----> <a href='vscode-notebook-cell:/home/andrea/Documents/Teaching/RL/RL-tutors/2023-2024/practicals/p00_intro/Intro.ipynb#X15sZmlsZQ%3D%3D?line=2'>3</a>\u001b[0m t\u001b[39m.\u001b[39;49mappend(\u001b[39m3\u001b[39m)\n",
      "\u001b[0;31mAttributeError\u001b[0m: 'tuple' object has no attribute 'append'"
     ]
    }
   ],
   "source": [
    "t = (1,2,3)\n",
    "print(t)\n",
    "t.append(3)"
   ]
  },
  {
   "cell_type": "code",
   "execution_count": 15,
   "id": "df931b97",
   "metadata": {},
   "outputs": [
    {
     "name": "stdout",
     "output_type": "stream",
     "text": [
      "{1: '2', 'a': 'hello'}\n"
     ]
    }
   ],
   "source": [
    "d = {1:'2', 'a':'hello'}\n",
    "print(d)"
   ]
  },
  {
   "cell_type": "code",
   "execution_count": 16,
   "id": "5d115805",
   "metadata": {},
   "outputs": [],
   "source": [
    "d[1]=4"
   ]
  },
  {
   "cell_type": "code",
   "execution_count": 17,
   "id": "3f1dc4a3",
   "metadata": {},
   "outputs": [
    {
     "data": {
      "text/plain": [
       "{1: 4, 'a': 'hello'}"
      ]
     },
     "execution_count": 17,
     "metadata": {},
     "output_type": "execute_result"
    }
   ],
   "source": [
    "d"
   ]
  },
  {
   "cell_type": "code",
   "execution_count": 18,
   "id": "9a75e813",
   "metadata": {},
   "outputs": [
    {
     "name": "stdout",
     "output_type": "stream",
     "text": [
      "True 1\n",
      "False 0\n"
     ]
    }
   ],
   "source": [
    "b = True\n",
    "print(b, int(b))\n",
    "b = False\n",
    "print(b, int(b))"
   ]
  },
  {
   "cell_type": "markdown",
   "id": "1252592e",
   "metadata": {},
   "source": [
    "## Loops and Conditions"
   ]
  },
  {
   "cell_type": "code",
   "execution_count": null,
   "id": "36b062d6",
   "metadata": {},
   "outputs": [
    {
     "data": {
      "text/plain": [
       "[0, 1, 2, 3, 4, 5, 6, 7, 8, 9]"
      ]
     },
     "execution_count": 17,
     "metadata": {},
     "output_type": "execute_result"
    }
   ],
   "source": [
    "list(range(10))"
   ]
  },
  {
   "cell_type": "code",
   "execution_count": null,
   "id": "ebe02d74",
   "metadata": {},
   "outputs": [
    {
     "name": "stdout",
     "output_type": "stream",
     "text": [
      "0\n",
      "1\n",
      "2\n",
      "3\n",
      "4\n",
      "5\n",
      "6\n",
      "7\n",
      "8\n",
      "9\n"
     ]
    }
   ],
   "source": [
    "for i in range(10):\n",
    "    print(i)"
   ]
  },
  {
   "cell_type": "code",
   "execution_count": null,
   "id": "a5392b81",
   "metadata": {},
   "outputs": [
    {
     "name": "stdout",
     "output_type": "stream",
     "text": [
      "0\n",
      "1\n",
      "2\n",
      "3\n",
      "4\n",
      "5\n",
      "6\n",
      "7\n",
      "8\n",
      "9\n"
     ]
    }
   ],
   "source": [
    "i = 0\n",
    "while i<10:\n",
    "    print(i)\n",
    "    i += 1"
   ]
  },
  {
   "cell_type": "code",
   "execution_count": null,
   "id": "5d695f09",
   "metadata": {},
   "outputs": [
    {
     "name": "stdout",
     "output_type": "stream",
     "text": [
      "hey, RL is cool\n"
     ]
    }
   ],
   "source": [
    "statement = \"RL is cool\"\n",
    "if statement == \"RL is cool\":\n",
    "    print(\"hey, RL is cool\")\n",
    "else:\n",
    "    print(\"yaboring\")"
   ]
  },
  {
   "cell_type": "markdown",
   "id": "9e7eba53",
   "metadata": {},
   "source": [
    "## Functions"
   ]
  },
  {
   "cell_type": "code",
   "execution_count": null,
   "id": "9d0bd3d7",
   "metadata": {},
   "outputs": [
    {
     "name": "stdout",
     "output_type": "stream",
     "text": [
      "RL is cool\n"
     ]
    }
   ],
   "source": [
    "def f(a,b):\n",
    "    return a+b\n",
    "\n",
    "print(f(\"RL\", \" is cool\"))"
   ]
  },
  {
   "cell_type": "markdown",
   "id": "af5d5fe4",
   "metadata": {},
   "source": [
    "## Classes"
   ]
  },
  {
   "cell_type": "code",
   "execution_count": null,
   "id": "80257885",
   "metadata": {},
   "outputs": [
    {
     "name": "stdout",
     "output_type": "stream",
     "text": [
      "RL class being initialized\n",
      "RL is cool? True\n"
     ]
    }
   ],
   "source": [
    "class RL:\n",
    "    test = 5\n",
    "    def __init__(self):\n",
    "        print(\"RL class being initialized\")\n",
    "        self.cool = True\n",
    "    def is_cool(self):\n",
    "        return True\n",
    "    def __len__(self):\n",
    "        return 5\n",
    "    \n",
    "rl = RL()\n",
    "len(rl)\n",
    "print(\"RL is cool?\", rl.is_cool())"
   ]
  },
  {
   "cell_type": "markdown",
   "id": "5618e0be",
   "metadata": {},
   "source": [
    "## Cool commands"
   ]
  },
  {
   "cell_type": "code",
   "execution_count": null,
   "id": "f92eeec0",
   "metadata": {},
   "outputs": [
    {
     "name": "stdout",
     "output_type": "stream",
     "text": [
      "[0, 1, 2, 3, 4, 5, 6, 7, 8, 9]\n",
      "[0, 2, 4, 6, 8]\n"
     ]
    }
   ],
   "source": [
    "l = list(range(10))\n",
    "print(l)\n",
    "filtered = [elem for elem in l if elem % 2 == 0]\n",
    "print(filtered)"
   ]
  },
  {
   "cell_type": "code",
   "execution_count": null,
   "id": "974f9414",
   "metadata": {},
   "outputs": [
    {
     "name": "stdout",
     "output_type": "stream",
     "text": [
      "{0: 0, 1: 2, 2: 4, 3: 6, 4: 8}\n"
     ]
    }
   ],
   "source": [
    "filtered_dict = {i:v for i,v in enumerate(filtered)}\n",
    "print(filtered_dict)"
   ]
  },
  {
   "cell_type": "code",
   "execution_count": null,
   "id": "a9d00ed8",
   "metadata": {},
   "outputs": [
    {
     "name": "stdout",
     "output_type": "stream",
     "text": [
      "[1, 2, 3, 4, 5]\n",
      "[5, 10, 15, 20, 25]\n"
     ]
    }
   ],
   "source": [
    "l1 = [1,2,3,4,5]\n",
    "print(l1)\n",
    "l2 = [i*5 for i in l1]\n",
    "print(l2)"
   ]
  },
  {
   "cell_type": "code",
   "execution_count": null,
   "id": "77ab9f17",
   "metadata": {},
   "outputs": [
    {
     "name": "stdout",
     "output_type": "stream",
     "text": [
      "[(1, 5), (2, 10), (3, 15), (4, 20), (5, 25)]\n"
     ]
    }
   ],
   "source": [
    "zipped = list(zip(l1,l2))\n",
    "print(zipped)"
   ]
  },
  {
   "cell_type": "code",
   "execution_count": null,
   "id": "0f1b3384",
   "metadata": {},
   "outputs": [
    {
     "name": "stdout",
     "output_type": "stream",
     "text": [
      "[(1, 2, 3, 4, 5), (5, 10, 15, 20, 25)]\n"
     ]
    }
   ],
   "source": [
    "unzipped = list(zip(*zipped))\n",
    "print(unzipped)"
   ]
  },
  {
   "cell_type": "code",
   "execution_count": null,
   "id": "5f27665a",
   "metadata": {},
   "outputs": [],
   "source": [
    "l = [1,2,3,4]\n",
    "l2 = [1,2,*l]"
   ]
  },
  {
   "cell_type": "code",
   "execution_count": null,
   "id": "24657932",
   "metadata": {},
   "outputs": [
    {
     "data": {
      "text/plain": [
       "[1, 2, 1, 2, 3, 4]"
      ]
     },
     "execution_count": 29,
     "metadata": {},
     "output_type": "execute_result"
    }
   ],
   "source": [
    "l2"
   ]
  },
  {
   "cell_type": "code",
   "execution_count": null,
   "id": "cad8ae7b",
   "metadata": {},
   "outputs": [],
   "source": [
    "d ={'first':1,'second':2}"
   ]
  },
  {
   "cell_type": "code",
   "execution_count": null,
   "id": "b87fc637",
   "metadata": {},
   "outputs": [
    {
     "ename": "TypeError",
     "evalue": "f() got an unexpected keyword argument 'first'",
     "output_type": "error",
     "traceback": [
      "\u001b[0;31m---------------------------------------------------------------------------\u001b[0m",
      "\u001b[0;31mTypeError\u001b[0m                                 Traceback (most recent call last)",
      "\u001b[1;32m/home/andrea/Documents/Teaching/RL/RL_2023_tutors/practicals/p00_intro/Intro.ipynb Cell 36\u001b[0m line \u001b[0;36m1\n\u001b[0;32m----> <a href='vscode-notebook-cell:/home/andrea/Documents/Teaching/RL/RL_2023_tutors/practicals/p00_intro/Intro.ipynb#X50sZmlsZQ%3D%3D?line=0'>1</a>\u001b[0m f(\u001b[39m*\u001b[39;49m\u001b[39m*\u001b[39;49md)\n\u001b[1;32m      <a href='vscode-notebook-cell:/home/andrea/Documents/Teaching/RL/RL_2023_tutors/practicals/p00_intro/Intro.ipynb#X50sZmlsZQ%3D%3D?line=2'>3</a>\u001b[0m f(first\u001b[39m=\u001b[39m\u001b[39m1\u001b[39m, second\u001b[39m=\u001b[39m\u001b[39m2\u001b[39m)\n",
      "\u001b[0;31mTypeError\u001b[0m: f() got an unexpected keyword argument 'first'"
     ]
    }
   ],
   "source": [
    "f(**d)\n",
    "\n",
    "f(first=1, second=2)"
   ]
  },
  {
   "cell_type": "code",
   "execution_count": null,
   "id": "8e77c880",
   "metadata": {},
   "outputs": [
    {
     "name": "stdout",
     "output_type": "stream",
     "text": [
      "3\n",
      "3\n"
     ]
    }
   ],
   "source": [
    "d = {'a':1,'b':2}\n",
    "\n",
    "print(f(**d))\n",
    "print(f(a=1,b=2))"
   ]
  },
  {
   "cell_type": "markdown",
   "id": "478405c1",
   "metadata": {},
   "source": [
    "## Numpy\n",
    "\n",
    "https://numpy.org/doc/stable/"
   ]
  },
  {
   "cell_type": "code",
   "execution_count": null,
   "id": "11a7ddbc",
   "metadata": {},
   "outputs": [],
   "source": [
    "import numpy as np"
   ]
  },
  {
   "cell_type": "code",
   "execution_count": null,
   "id": "bca852d9",
   "metadata": {},
   "outputs": [],
   "source": [
    "m1 = np.array([[1,2,3],[4,5,6]])"
   ]
  },
  {
   "cell_type": "code",
   "execution_count": null,
   "id": "ed398680",
   "metadata": {},
   "outputs": [],
   "source": [
    "ones = np.ones((3,4))"
   ]
  },
  {
   "cell_type": "code",
   "execution_count": null,
   "id": "2f77a619",
   "metadata": {},
   "outputs": [
    {
     "data": {
      "text/plain": [
       "array([[4, 0],\n",
       "       [0, 3]])"
      ]
     },
     "execution_count": 4,
     "metadata": {},
     "output_type": "execute_result"
    }
   ],
   "source": [
    "np.diag((4,3))"
   ]
  },
  {
   "cell_type": "code",
   "execution_count": null,
   "id": "0b89a7f5",
   "metadata": {},
   "outputs": [
    {
     "data": {
      "text/plain": [
       "array([[1., 0., 0., 0., 0.],\n",
       "       [0., 1., 0., 0., 0.],\n",
       "       [0., 0., 1., 0., 0.],\n",
       "       [0., 0., 0., 1., 0.],\n",
       "       [0., 0., 0., 0., 1.]])"
      ]
     },
     "execution_count": 5,
     "metadata": {},
     "output_type": "execute_result"
    }
   ],
   "source": [
    "np.eye(5)"
   ]
  },
  {
   "cell_type": "code",
   "execution_count": null,
   "id": "d19ea05b",
   "metadata": {},
   "outputs": [
    {
     "name": "stdout",
     "output_type": "stream",
     "text": [
      "[[1 2 3]\n",
      " [4 5 6]]\n",
      "(2, 3)\n"
     ]
    }
   ],
   "source": [
    "print(m1)\n",
    "print(m1.shape)"
   ]
  },
  {
   "cell_type": "code",
   "execution_count": null,
   "id": "4ad76d96",
   "metadata": {},
   "outputs": [
    {
     "name": "stdout",
     "output_type": "stream",
     "text": [
      "[[1. 1. 1. 1.]\n",
      " [1. 1. 1. 1.]\n",
      " [1. 1. 1. 1.]]\n",
      "(3, 4)\n"
     ]
    }
   ],
   "source": [
    "print(ones)\n",
    "print(ones.shape)"
   ]
  },
  {
   "cell_type": "code",
   "execution_count": null,
   "id": "7e58ea9c",
   "metadata": {},
   "outputs": [
    {
     "name": "stdout",
     "output_type": "stream",
     "text": [
      "[[1 4]\n",
      " [2 5]\n",
      " [3 6]]\n"
     ]
    }
   ],
   "source": [
    "print(m1.T)"
   ]
  },
  {
   "cell_type": "code",
   "execution_count": null,
   "id": "6aeb55a3",
   "metadata": {},
   "outputs": [
    {
     "name": "stdout",
     "output_type": "stream",
     "text": [
      "[[ 6.  6.  6.  6.]\n",
      " [15. 15. 15. 15.]]\n"
     ]
    }
   ],
   "source": [
    "print(m1@ones)"
   ]
  },
  {
   "cell_type": "code",
   "execution_count": null,
   "id": "f786e36d",
   "metadata": {},
   "outputs": [
    {
     "data": {
      "text/plain": [
       "array([[1, 2, 3],\n",
       "       [4, 5, 6]])"
      ]
     },
     "execution_count": 10,
     "metadata": {},
     "output_type": "execute_result"
    }
   ],
   "source": [
    "m1"
   ]
  },
  {
   "cell_type": "code",
   "execution_count": null,
   "id": "4e4c2ed6",
   "metadata": {},
   "outputs": [
    {
     "name": "stdout",
     "output_type": "stream",
     "text": [
      "3.5 [2.5 3.5 4.5] [2. 5.]\n"
     ]
    }
   ],
   "source": [
    "print(m1.mean(), m1.mean(axis=0), m1.mean(axis=1))"
   ]
  },
  {
   "cell_type": "code",
   "execution_count": null,
   "id": "4e42315a",
   "metadata": {},
   "outputs": [
    {
     "name": "stdout",
     "output_type": "stream",
     "text": [
      "[[ 6.  7.  8.]\n",
      " [ 9. 10. 11.]]\n"
     ]
    }
   ],
   "source": [
    "print(m1+5.)"
   ]
  },
  {
   "cell_type": "code",
   "execution_count": null,
   "id": "6492b845",
   "metadata": {},
   "outputs": [
    {
     "name": "stdout",
     "output_type": "stream",
     "text": [
      "[[ 5 10 15]\n",
      " [20 25 30]]\n"
     ]
    }
   ],
   "source": [
    "print(m1*5)"
   ]
  },
  {
   "cell_type": "markdown",
   "id": "2fbd803d",
   "metadata": {},
   "source": [
    "## Torch\n",
    "\n",
    "https://pytorch.org/docs/stable/torch.html"
   ]
  },
  {
   "cell_type": "code",
   "execution_count": null,
   "id": "bfa9293a",
   "metadata": {},
   "outputs": [],
   "source": [
    "import torch"
   ]
  },
  {
   "cell_type": "code",
   "execution_count": null,
   "id": "0b13cf02",
   "metadata": {},
   "outputs": [],
   "source": [
    "m1 = torch.tensor([[1,2,3],[4,5,6]], dtype=torch.float)"
   ]
  },
  {
   "cell_type": "code",
   "execution_count": null,
   "id": "c8e2d0c0",
   "metadata": {},
   "outputs": [],
   "source": [
    "ones = torch.ones((3,4))"
   ]
  },
  {
   "cell_type": "code",
   "execution_count": null,
   "id": "cd203bed",
   "metadata": {},
   "outputs": [
    {
     "name": "stdout",
     "output_type": "stream",
     "text": [
      "tensor([[1., 2., 3.],\n",
      "        [4., 5., 6.]])\n",
      "torch.Size([2, 3])\n"
     ]
    }
   ],
   "source": [
    "print(m1)\n",
    "print(m1.shape)"
   ]
  },
  {
   "cell_type": "code",
   "execution_count": null,
   "id": "b8f9c3b0",
   "metadata": {},
   "outputs": [
    {
     "name": "stdout",
     "output_type": "stream",
     "text": [
      "tensor([[1., 1., 1., 1.],\n",
      "        [1., 1., 1., 1.],\n",
      "        [1., 1., 1., 1.]])\n",
      "torch.Size([3, 4])\n"
     ]
    }
   ],
   "source": [
    "print(ones)\n",
    "print(ones.shape)"
   ]
  },
  {
   "cell_type": "code",
   "execution_count": null,
   "id": "c5a88ddc",
   "metadata": {},
   "outputs": [
    {
     "name": "stdout",
     "output_type": "stream",
     "text": [
      "tensor([[1., 4.],\n",
      "        [2., 5.],\n",
      "        [3., 6.]])\n"
     ]
    }
   ],
   "source": [
    "print(m1.T)"
   ]
  },
  {
   "cell_type": "code",
   "execution_count": null,
   "id": "81a7d8c3",
   "metadata": {},
   "outputs": [
    {
     "name": "stdout",
     "output_type": "stream",
     "text": [
      "tensor([[ 6.,  6.,  6.,  6.],\n",
      "        [15., 15., 15., 15.]])\n"
     ]
    }
   ],
   "source": [
    "print(torch.matmul(m1,ones))"
   ]
  },
  {
   "cell_type": "code",
   "execution_count": null,
   "id": "d8658b6c",
   "metadata": {},
   "outputs": [
    {
     "name": "stdout",
     "output_type": "stream",
     "text": [
      "tensor(3.5000) tensor([2.5000, 3.5000, 4.5000]) tensor([2., 5.])\n"
     ]
    }
   ],
   "source": [
    "print(m1.mean(), m1.mean(axis=0), m1.mean(axis=1))"
   ]
  },
  {
   "cell_type": "code",
   "execution_count": null,
   "id": "87a63df8",
   "metadata": {},
   "outputs": [
    {
     "name": "stdout",
     "output_type": "stream",
     "text": [
      "tensor([[ 6.,  7.,  8.],\n",
      "        [ 9., 10., 11.]])\n"
     ]
    }
   ],
   "source": [
    "print(m1+5)"
   ]
  },
  {
   "cell_type": "code",
   "execution_count": null,
   "id": "e8352c6b",
   "metadata": {},
   "outputs": [
    {
     "name": "stdout",
     "output_type": "stream",
     "text": [
      "tensor([[ 5., 10., 15.],\n",
      "        [20., 25., 30.]])\n"
     ]
    }
   ],
   "source": [
    "print(m1*5)"
   ]
  },
  {
   "cell_type": "code",
   "execution_count": null,
   "id": "23b49079",
   "metadata": {},
   "outputs": [
    {
     "data": {
      "text/plain": [
       "tensor([[1, 2, 3],\n",
       "        [4, 5, 6]])"
      ]
     },
     "execution_count": 25,
     "metadata": {},
     "output_type": "execute_result"
    }
   ],
   "source": [
    "m1.long()"
   ]
  },
  {
   "cell_type": "code",
   "execution_count": null,
   "id": "cdf0fcdc",
   "metadata": {},
   "outputs": [
    {
     "data": {
      "text/plain": [
       "tensor([[1., 2., 3.],\n",
       "        [4., 5., 6.]])"
      ]
     },
     "execution_count": 26,
     "metadata": {},
     "output_type": "execute_result"
    }
   ],
   "source": [
    "m1.float()"
   ]
  },
  {
   "cell_type": "code",
   "execution_count": null,
   "id": "18e79deb",
   "metadata": {},
   "outputs": [
    {
     "data": {
      "text/plain": [
       "tensor([[1., 2., 3.],\n",
       "        [4., 5., 6.]], dtype=torch.float64)"
      ]
     },
     "execution_count": 27,
     "metadata": {},
     "output_type": "execute_result"
    }
   ],
   "source": [
    "m1.double()"
   ]
  },
  {
   "cell_type": "code",
   "execution_count": null,
   "id": "629a0f97",
   "metadata": {},
   "outputs": [
    {
     "data": {
      "text/plain": [
       "tensor([[True, True, True],\n",
       "        [True, True, True]])"
      ]
     },
     "execution_count": 28,
     "metadata": {},
     "output_type": "execute_result"
    }
   ],
   "source": [
    "m1.bool()"
   ]
  },
  {
   "cell_type": "code",
   "execution_count": null,
   "id": "5d79e08e",
   "metadata": {},
   "outputs": [
    {
     "data": {
      "text/plain": [
       "tensor([[False, False, False],\n",
       "        [ True,  True,  True]])"
      ]
     },
     "execution_count": 29,
     "metadata": {},
     "output_type": "execute_result"
    }
   ],
   "source": [
    "m1>3"
   ]
  },
  {
   "cell_type": "code",
   "execution_count": null,
   "id": "44e6487e",
   "metadata": {},
   "outputs": [
    {
     "data": {
      "text/plain": [
       "tensor([4., 5., 6.])"
      ]
     },
     "execution_count": 30,
     "metadata": {},
     "output_type": "execute_result"
    }
   ],
   "source": [
    "m1[m1>3]"
   ]
  },
  {
   "cell_type": "code",
   "execution_count": null,
   "id": "7bc74d99",
   "metadata": {},
   "outputs": [
    {
     "data": {
      "text/plain": [
       "(tensor([1, 1, 1]), tensor([0, 1, 2]))"
      ]
     },
     "execution_count": 31,
     "metadata": {},
     "output_type": "execute_result"
    }
   ],
   "source": [
    "torch.where(m1>3)"
   ]
  },
  {
   "cell_type": "code",
   "execution_count": null,
   "id": "989dc92e",
   "metadata": {},
   "outputs": [
    {
     "data": {
      "text/plain": [
       "tensor([[1., 2., 3.]])"
      ]
     },
     "execution_count": 32,
     "metadata": {},
     "output_type": "execute_result"
    }
   ],
   "source": [
    "m1[:1,:]"
   ]
  }
 ],
 "metadata": {
  "kernelspec": {
   "display_name": "Python 3 (ipykernel)",
   "language": "python",
   "name": "python3"
  },
  "language_info": {
   "codemirror_mode": {
    "name": "ipython",
    "version": 3
   },
   "file_extension": ".py",
   "mimetype": "text/x-python",
   "name": "python",
   "nbconvert_exporter": "python",
   "pygments_lexer": "ipython3",
   "version": "3.8.17"
  }
 },
 "nbformat": 4,
 "nbformat_minor": 5
}
