{
  "cells": [
    {
      "cell_type": "code",
      "execution_count": null,
      "id": "roo0bdCh5YC3",
      "metadata": {
        "colab": {
          "base_uri": "https://localhost:8080/"
        },
        "id": "roo0bdCh5YC3",
        "outputId": "e2495f6a-ab47-4067-a9fc-360539ed9dbe"
      },
      "outputs": [],
      "source": [
        "!pip install gymnasium"
      ]
    },
    {
      "cell_type": "code",
      "execution_count": null,
      "id": "6251a15f",
      "metadata": {
        "colab": {
          "base_uri": "https://localhost:8080/",
          "height": 17
        },
        "id": "6251a15f",
        "outputId": "be27f57b-f176-432f-f5dc-f2e570b0063c"
      },
      "outputs": [],
      "source": [
        "###import\n",
        "from IPython.display import display, HTML\n",
        "display(HTML(\"<style>.container { width:100% !important; }</style>\"))\n",
        "\n",
        "import random\n",
        "import numpy as np\n",
        "import gymnasium as gym\n",
        "import time\n",
        "from gymnasium import spaces\n",
        "import os\n",
        "from matplotlib import pyplot as plt\n",
        "from statistics import mean"
      ]
    },
    {
      "cell_type": "markdown",
      "id": "d1585649",
      "metadata": {
        "id": "d1585649"
      },
      "source": [
        "## Grid world environment"
      ]
    },
    {
      "cell_type": "code",
      "execution_count": null,
      "id": "26e6d16f",
      "metadata": {
        "id": "26e6d16f"
      },
      "outputs": [],
      "source": [
        "####################################### GRID WORLD ENV\n",
        "# custom 2d grid world enviroment\n",
        "class GridWorld(gym.Env):\n",
        "    metadata = {'render.modes': ['console']}\n",
        "\n",
        "    # actions available\n",
        "    UP = 0\n",
        "    LEFT = 1\n",
        "    DOWN = 2\n",
        "    RIGHT = 3\n",
        "\n",
        "\n",
        "    def __init__(self, width, height, reward_type=\"sparse\", obstacles=False):\n",
        "        super(GridWorld, self).__init__()\n",
        "        self.ACTION_NAMES = [\"UP\", \"LEFT\", \"DOWN\", \"RIGHT\"]\n",
        "        self.num_actions = 4\n",
        "\n",
        "        self.size = width * height  # size of the grid world\n",
        "        self.num_states = self.size\n",
        "        self.width = width\n",
        "        self.height = height\n",
        "        if obstacles:\n",
        "            self.num_obstacles = int((width+height)/2)\n",
        "        else:\n",
        "            self.num_obstacles = 0\n",
        "        self.end_state = np.array([height - 1, width - 1], dtype=np.uint8) # goal state = bottom right cell\n",
        "\n",
        "        # actions of agents : up, down, left and right\n",
        "        self.action_space = spaces.Discrete(4)\n",
        "        # observation : cell indices in the grid\n",
        "        self.observation_space = spaces.MultiDiscrete([self.height, self.width])\n",
        "\n",
        "        self.obstacles = np.zeros((height, width))\n",
        "\n",
        "        for i in range(self.num_obstacles):\n",
        "            self.obstacles[ random.randrange(height) , random.randrange(width)] = 1\n",
        "\n",
        "        self.num_steps = 0\n",
        "        self.max_steps = height*width\n",
        "\n",
        "        self.current_state = np.zeros((2), np.uint8)#init state = [0,0]\n",
        "\n",
        "        self.directions = np.array([\n",
        "            [-1,0], #UP\n",
        "            [0,-1], #LEFT\n",
        "            [1,0], #DOWN\n",
        "            [0,1] #RIGHT\n",
        "        ])\n",
        "\n",
        "        self.reward_type= reward_type\n",
        "\n",
        "    def transition_function(self, s, a):\n",
        "        s_prime =  np.zeros((2), np.uint8)\n",
        "        s_prime = s + self.directions[a,:]\n",
        "\n",
        "        if s_prime[0] < self.height and s_prime[1] < self.width and (s_prime >= 0).all():\n",
        "            if self.obstacles[s_prime[0], s_prime[1]] == 0 :\n",
        "                return s_prime\n",
        "\n",
        "        return s\n",
        "\n",
        "\n",
        "    def reward_function(self,s):\n",
        "\n",
        "        r = -1\n",
        "\n",
        "        if self.reward_type == \"sparse\":\n",
        "            if (s == self.end_state).all():\n",
        "                r = 100\n",
        "        else:\n",
        "            r = 1 / (np.sum((self.end_state - s))+0.000001)\n",
        "\n",
        "        return r\n",
        "\n",
        "    def termination_condition(self, s):\n",
        "        terminated = False\n",
        "        truncated = False\n",
        "\n",
        "        terminated = (s == self.end_state).all()\n",
        "        truncated = self.num_steps > self.max_steps\n",
        "\n",
        "        return terminated, truncated\n",
        "\n",
        "    def step(self, action):\n",
        "        s_prime = self.transition_function(self.current_state, action)\n",
        "        reward = self.reward_function(s_prime)\n",
        "        terminated, truncated = self.termination_condition(s_prime)\n",
        "\n",
        "        self.current_state = s_prime\n",
        "        self.num_steps += 1\n",
        "\n",
        "        return self.current_state, reward, terminated, truncated, None\n",
        "\n",
        "    def render(self):\n",
        "        '''\n",
        "            render the state\n",
        "        '''\n",
        "\n",
        "        row = self.current_state[0]\n",
        "        col = self.current_state[1]\n",
        "\n",
        "        for r in range(self.height):\n",
        "            for c in range(self.width):\n",
        "                if r == row and c == col:\n",
        "                    print(\"| A \", end='')\n",
        "                elif r == self.end_state[0] and c == self.end_state[1]:\n",
        "                    print(\"| G \", end='')\n",
        "                else:\n",
        "                    if self.obstacles[r,c] == 1:\n",
        "                        print('|///', end='')\n",
        "                    else:\n",
        "                        print('|___', end='')\n",
        "            print('|')\n",
        "        print('\\n')\n",
        "\n",
        "\n",
        "\n",
        "    def reset(self):\n",
        "        self.current_state = np.zeros((2), np.uint8)\n",
        "        self.num_steps = 0\n",
        "\n",
        "        return self.current_state\n",
        "\n",
        "    def close(self):\n",
        "        pass\n",
        "\n",
        "\n",
        "class NonDeterministicGridWorld(GridWorld):\n",
        "    def __init__(self, width, height, p=0.8, reward_type=\"sparse\", obstacles=False):\n",
        "        super(NonDeterministicGridWorld, self).__init__(width, height, reward_type, obstacles)\n",
        "        self.probability_right_action = p\n",
        "\n",
        "    def transition_function(self, s, a):\n",
        "        s_prime = s + self.directions[a, :]\n",
        "\n",
        "        #with probability 1 - p diagonal movement\n",
        "        if random.random() <= 1 - self.probability_right_action:\n",
        "            if random.random() < 0.5:\n",
        "                s_prime = s_prime + self.directions[(a+1)%self.num_actions, :]\n",
        "            else:\n",
        "                s_prime = s_prime + self.directions[(a-1)%self.num_actions, :]\n",
        "\n",
        "\n",
        "        if s_prime[0] < self.height and s_prime[1] < self.width and (s_prime >= 0).all():\n",
        "            if self.obstacles[s_prime[0], s_prime[1]] == 0 :\n",
        "                return s_prime\n",
        "\n",
        "        return s\n"
      ]
    },
    {
      "cell_type": "markdown",
      "id": "jUIW6H-45YC6",
      "metadata": {
        "id": "jUIW6H-45YC6"
      },
      "source": [
        "# Tile coding"
      ]
    },
    {
      "cell_type": "code",
      "execution_count": null,
      "id": "wEhvV5e25YC6",
      "metadata": {
        "id": "wEhvV5e25YC6"
      },
      "outputs": [],
      "source": [
        "class TileCoding:\n",
        "    def __init__(self, env):\n",
        "        self.width = env.width\n",
        "        self.height = env.height\n",
        "\n",
        "    def __call__(self, s):\n",
        "        # TODO implement tile coding\n",
        "        f = ...\n",
        "        return f"
      ]
    },
    {
      "cell_type": "markdown",
      "id": "82a57d26",
      "metadata": {
        "id": "82a57d26"
      },
      "source": [
        "# Q learning with linear value function approximation (LVFA)"
      ]
    },
    {
      "cell_type": "markdown",
      "id": "kyxosbY35tRJ",
      "metadata": {
        "id": "kyxosbY35tRJ"
      },
      "source": [
        "![image_2023-11-02_22-13-48.png](data:image/png;base64,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)"
      ]
    },
    {
      "cell_type": "markdown",
      "id": "3dd1fe50",
      "metadata": {
        "id": "3dd1fe50"
      },
      "source": [
        "## Q function evluation"
      ]
    },
    {
      "cell_type": "code",
      "execution_count": null,
      "id": "d7ca7f47",
      "metadata": {
        "id": "d7ca7f47"
      },
      "outputs": [],
      "source": [
        "def evaluate_q_lvfa(env, weights, n_episodes=10, render=False):\n",
        "    tile_features = TileCoding(env)\n",
        "    cum_rews = []\n",
        "    for ep in range(n_episodes):\n",
        "        if render:\n",
        "            print(\"################## Episode \",ep+1)\n",
        "        cum_rew = 0\n",
        "        done = False\n",
        "        state = env.reset()\n",
        "        while not done:\n",
        "            # TODO choose greedy action\n",
        "            # remember: weights has shape (n_actions, n_features)\n",
        "            action = ...\n",
        "            ############## simulate the action\n",
        "            state, reward, terminated, truncated, info = env.step(action)\n",
        "            done = terminated or truncated\n",
        "            if render:\n",
        "                print(env.ACTION_NAMES[action])\n",
        "                env.render()\n",
        "                print(done)\n",
        "            cum_rew += reward\n",
        "        cum_rews.append(cum_rew)\n",
        "    mean_rew = mean(cum_rews)\n",
        "    if render:\n",
        "        print(\"Mean reward obtained in {} episodes: {} \".format( n_episodes, mean_rew))\n",
        "    return mean_rew"
      ]
    },
    {
      "cell_type": "markdown",
      "id": "e71b8c93",
      "metadata": {
        "id": "e71b8c93"
      },
      "source": [
        "## Q learning"
      ]
    },
    {
      "cell_type": "markdown",
      "id": "m93kRrnJ5-A1",
      "metadata": {
        "id": "m93kRrnJ5-A1"
      },
      "source": [
        "![image_2023-11-02_22-14-18.png](data:image/png;base64,iVBORw0KGgoAAAANSUhEUgAABQoAAADACAYAAABMFl4tAAAA4WlDQ1BzUkdCAAAYlWNgYDzNAARMDgwMuXklRUHuTgoRkVEKDEggMbm4gAE3YGRg+HYNRDIwXNYNLGHlx6MWG+AsAloIpD8AsUg6mM3IAmInQdgSIHZ5SUEJkK0DYicXFIHYQBcz8BSFBDkD2T5AtkI6EjsJiZ2SWpwMZOcA2fEIv+XPZ2Cw+MLAwDwRIZY0jYFhezsDg8QdhJjKQgYG/lYGhm2XEWKf/cH+ZRQ7VJJaUQIS8dN3ZChILEoESzODAjQtjYHh03IGBt5IBgbhCwwMXNEQd4ABazEwoEkMJ0IAAHLYNoSjH0ezAAAACXBIWXMAACToAAAk6AGCYwUcAAAgAElEQVR4nOzddXgUV/s38O9K3D0kEIEYJGiA4lasQA0olFD8geKFFGifFqfQUihuhSIFihQoTlseJEiQ4BIkgQhJiLtn5bx/5LfzZrK7IcnuRu/Pde11ZWXOnNnMnjlzHxMwxhgIIYQQQgghhBBCCCH1mrC6M0AIIYQQQgghhBBCCKl+FCgkhBBCCCGEEEIIIYRQoJAQQgghhBBCCCGEEEKBQkIIIYQQQgghhBBCCChQSAghhBBCCCGEEEIIAQUKCSGEEEIIIYQQQgghoEAhIYQQQgghhBBCCCEEFCgkhBBCCCGEEEIIIYSAAoWEEEIIIYQQQgghhBBQoJAQQgghhBBCCCGEEAIKFBJCCCGEEEIIIYQQQkCBQkIIIYQQQgghhBBCCChQSAghhBBCCCGEEEIIAQUKCSGEEEIIIYQQQgghoEAhIYQQQgghhBBCCCEEFCgkhBBCCCGEEEIIIYSAAoWEEEIIIYQQQgghhBBQoJAQQgghhBBCCCGEEAIKFBJCCCGEEEIIIYQQQkCBQkIIIYQQQgghhBBCCChQSAghhBBCCCGEEEIIAQUKCSGEEEIIIYQQQgghoEAhIYQQQgghhBBCCCEEFCgkhBBCCCGEEEIIIYSAAoWEEEIIIYQQQgghhBBQoJAQQgghhBBCCCGEEAIKFBJCCCGEEEIIIYQQQgCIqzsDhBBCCCHk/2OMISUlBSkpKRqnZWFhAScnJy3kihBCCCGE1AcUKCSEEEIIqUHkcjn27t2LTZs2QS6Xa5TW0KFD8csvv2gpZ4QQQgghpK6jQCEhhBBCSA3CGENGRgbevHmjcaAwNTVVS7kihBBCCCH1AQUKCSGEEEJqEJFIhEGDBsHR0RGMMaX3c3NzsXLlSqSnp8POzg6zZs2Cubm5yrSaNm2q6+wSQgghhJA6RMBU1UAJIYSQOk4ulyM6Ohpubm4QCATVnR1Cyi0xMRHt2rVDTEwMGjdujKtXr8LZ2bm6s0XKUFRUhKSkJDRs2LC6s0LqsKioKNjb28PY2LjK952bm4u8vDzY2trSNbUWyM7ORl5eHhwcHKo7K6SOYowhMTERFhYWMDIyqu7skAqiVY8JIYTUO1KpFH/99Re++OILbNu2TePhnYQQok5aWhqmTp2KadOm4dmzZ9WdHVJH3b17F8OGDcOSJUuqfMoBxhiWL1+O8ePHIzQ0tEr3TSouIyMDy5cvR0BAAJ4/f17d2SF1VHh4OKZMmYI5c+YgJyenurNDKoiGHhNCCKl3/v33X0yYMAFZWVm4d+8eCgsLMWPGDIhEourOGiGkDklNTcWYMWNw9uxZAMW9Qc+ePQsbG5tqzhmpS+7du4eRI0ciLCwM9+7dQ25uLlavXg1DQ0Od71sqlWLChAnYu3cvACA4OBjXr19Hs2bNdL5vUnGMMfz3v//Ftm3bAAD9+vXDmTNn0KJFi2rOGalLMjIyMGTIEDx9+hQA8PLlSxw9ehSWlpbVnDNSXtSjkBBCSL2Rn5+Pffv2YcSIEcjKygIAGBgYICsrC/n5+dWcO0JIXRIbG4uZM2fi33//BVA896RcLkdCQkI154zUJYwxpKSkQCwu7v8hl8uxZcsWfPXVV4iPj9f5/jMyMpCTkwMDAwMAQHp6OgYNGoT//e9/kEqlOt8/Kb+4uDiMHz+eCxICgLm5OeLi4qoxV6QuioyMhFgshlBYHG4KCgrCpEmTEBUVVb0ZI+VGgUJCCCH1QlFREfbt24evvvoK2dnZAAAzMzOsXLkSX3/9NUxNTas5h4SQuiItLQ3Tpk3D4cOHuWBJp06d8Ouvv1JPK6JVAoEAvXv3xrZt2+Dl5QWgOHi4fft2zJkzR+fBQltbW+zevRtTp07lejBGRUVh1qxZuHXrlk73TcovISEB8+fPx759+7jX/P39sXPnTvTv378ac0bqotatW2Pnzp3o0qULBAIBZDIZTpw4gcDAQBqGXEtQoJAQQki9EBwcjKVLlyI9PR0AYGJigk2bNmHixIkwMTGp5twRQuqK/Px8TJs2DadPn4ZMJgMAuLq6Yvfu3WjVqhUt9EC0TiQSoUuXLvjnn3+4YCEAHDlyBOvXr9d5j3lzc3MsXLgQo0ePhkgkAmMMz58/x4QJE6p8vkSiTCaTYevWrfjjjz+4Mqlly5bYu3cv3nvvPSqTiE60bt0amzdvhqenJwBAIpHg5MmTGDNmDPU2rgUoUEgIIaTOi4uLw/Tp07nhNSYmJli4cCGGDx9O8xISQrSmsLAQa9euxcmTJ8EYg0AggJ+fH4KDg9GkSRO6ISc6IxAI4O7ujl27dnHBQolEgo0bN+LPP/8EY0yn+7e0tMTKlSvx8ccfQyAQgDGGsLAwDBo0iIbbVyO5XI5Dhw7hp59+gkQiAQB4eXlhw4YN1LuZ6JTi+nf8+HG4u7sDKD4fT5w4gR9++AEFBQXVnENSFgoUEkIIqdPS09MxZswY3mqjX3zxBSZNmsTNqUQIIdpw7do1bN26levB1bhxY6xduxbOzs7VnDNSX7z33ntYsGABN51GXl4e5s2bh5CQEJ3v29LSEps3b0avXr241+7evYtVq1bRcMNqcv36dUybNg1FRUUAihtKly5dii5dulRzzkh90axZM+zYsQOurq4AioOFO3bswIULF3TegEEqjwKFhBBC6iy5XI6NGzfi0qVL3Gvvv/8+li9fTiuvEUK0qqCgAP/9738RGxsLADA2Nsbs2bPRrVu3as4ZqU/EYjE+++wzzJ8/n3stKSkJM2bMQHJyss737+joiDVr1qB58+YAildF3r9/P65du6bzfRO++Ph4LFmyBJmZmQAAoVCIX375BUOGDOEWmSCkKnTr1g1z586Fubk5gOJz86effqIGhBqMSghCCNExqVSKjIwM7qGYH4bo3s2bN7Fnzx6uxbJBgwbYvn07bGxsqjlnhJC6RCaTYd68ebh79y73Wo8ePTBp0iTo6+tXY85IfWRgYIB58+ahf//+3HD3hw8fYtOmTVUyN1jz5s0xY8YMbv7fpKQkLF++HHl5eTrfNykmlUqxb98+XL9+HUDxMNBhw4Zh7Nix3ArZhFQVPT09jBkzBt27dwdQvOBScHAwfvzxR8jl8mrOHVGFAoWEEKJjDx8+RL9+/bjH69evqztL9UJ+fj727duHqKgoAICRkRFmzpyJRo0aVW/GCCF1zo0bN7B7927uuaurK9avXw89Pb1qzBWpzwQCARYtWgQXFxcAxfMVHj16FE+fPq2SfQ8ePJg3BDk4OBg7duzQ+b5JsaioKOzZs4cbcuzm5obp06fTlCuk2piammLRokW8xvq1a9fyGthIzUGBQkII0bGsrCyEhIRwj9zc3OrOUr3w7NkzHD58mOtN2KJFCwQEBNCNOyFEq7Kzs/Hbb79xvaVEIhEWLVoEDw+Pas4Zqe9atWqFESNGcNe9ly9f4ujRo1WybxsbGyxatIh3zV22bBkiIyOrZP/13c6dO/HixQsAxWXSsGHD0LZt22rOFanv2rRpg8WLF3PPCwoK8PPPP+t8ZXZScRQoJIQQUictWbIEGRkZ3PMvvviC61lBCCHa8ujRI1y8eJEbPtWxY0f079+/mnNFCGBoaIjPP/8cTk5OAIqHyG/atKnKbsr9/f0xfvx47nlqaiq2bNlSJfuuz+Lj47F69WquodTAwABTp06l3oSk2gkEAkyaNAl+fn7cazdu3EBwcHA15oqoUu8mKFCsvKVujozNmzdrdCN58OBBHDhwQOV7PXv2RGBgYKXTJqQyZs6cqbb1tnXr1li6dGml05bL5fjss8+4YQ0lCQQCbNiwAW5ubpVOn9QuMpkMMTExeP36NW7duoXbt28jOTkZAoEArq6uaN26NTp27AhfX19YW1vzto2MjERERAT3XCwWc/OYVMbLly9x9uxZ7rmjoyMCAgIqnR5QfHz3799HVlYWgOJz3NPTU+OhzHl5eQgJCeHmrhQIBOjSpQvNa1bNpk2bhjdv3qh8r3Pnzvj2228rnbZMJsNnn30GiUSi9J6xsTFWr15NQ+QBREdH47///S+ys7NVvm9ubo6vvvoK7du3LzOde/fuYfny5Sq/b6FQiJ49e+LLL7+EkZFRhfMol8sRFBSEuLg4AMU35B9//DHs7e0rnFZ5MMaQkpKCV69e4eXLl3j06BFiYmKQmJiIoqIiCIVCWFpawsfHB02bNoW3tzfc3Nzg5OREvanVKCoqQlxcHN68eYMXL17gwYMHiIyMRF5eHiQSCQwMDODi4oK2bdvC19cXXl5ecHZ2hkgkqu6sl0uLFi3Qu3dv7Ny5EwCQmZmJrVu3Vtk9ybx583DkyBGkpaUBAC5fvozY2Fg0bNiwSvavTTExMVi9ejWvvlKSWCzG8uXL0axZszLTuX79OlatWqV2bjYPDw8sX74cxsbGlcrn1q1beXNRTpkyRacNpRkZGQgLC0NYWBju37+P2NhYJCYmIj8/HyKRCJaWlvD09ISPjw+8vb3h7u4OV1fXWvMbqmoSiQTx8fGIiYnBy5cvcf/+fbx+/Rq5ubkoKiqCnp4enJ2d0a5dO/j6+nLlvGI+0ppOT08PEyZMwLx58yCRSJCUlIQrV66ge/fudJ2qQepdoFAkEuHixYtITU1V+f5//vMfjQrSK1eu4MyZMyrf8/f3r3S6RLtevHiB4OBgnUye+sknn8DOzk7r6VZWcnKy2nMyMjISixYtqvSFOikpCX/99ZfK94RCIfbs2VOpdEntU1RUhN27d+PAgQO4f/++0ipmN2/exKFDh2Bra4tBgwYhMDAQfn5+XKVm48aN2L59O/d5X19f3Lp1q9KVnj179vB+39OnT1cKTlaUVCrFrl27sG/fPgDFAb3Jkydj6dKllQowKFy9ehUjR45EYWEhAMDb25taVmuAhIQEtWVnWloa5s6dW+myMzExEcePH1f5nqWlJczMzCqVbl3TqFEjNGvWDIsWLVJ5vRaJRBAKhVi/fr3a37dUKsV3332H8+fPq3y/QYMGmDhxIgwNDSuVR6lUyrsOOjk5oUePHjq5AZZIJDh58iQOHDiAmzdvIjExkesxVNo///wDoPh8atGiBTp27Ihhw4ahTZs2Ws9XbSWRSHDr1i0cO3YMd+/excuXL5Gamqr2O92/fz9MTEzQrl07jB49GqNGjaoVi0IIBAJMnToVu3bt4o5t06ZNmDx5cqUDURXh5OSE/v37cx0pIiMjcefOnVoZKLS3t4eDgwN+/fVX7ppdWkJCAs6dOwcrKyuV76enp2Pjxo04ffq0ynPN0NBQo/9NSkoKTpw4wT03MTHBrFmzKpXWu0ilUpw5cwYHDhzA7du3ERsbq/beqmSZ1KxZM7Rr1w6fffYZ2rdvT8Gh/yOXy3Hnzh389ddfuHXrFl68eIGkpCS1nz98+DBMTEzQqlUrDB8+HF988YXa864mUTSIu7m5ITw8HDKZDEFBQZg6dSoaNGhQ3dkjCqyeSU9PZw0aNGAAVD5++OEHjdLv37+/2rSPHDmipaMgmtq5cyczMzNjRkZGWn/cuXOnug+PZ/Xq1WrPyUaNGrGEhIRKp3316lW1aTds2JDJ5XItHkntdfHiRd53c//+/erOklalp6ez/v37M2NjY7XnQ8mHSCRifn5+LDo6mkujS5cuvM/MmDGj0vlJSkpiLVu25NLS19dnSUlJ2jhUdvLkSWZtbc2l7erqymJiYiqdnkQiYRMnTmQCgYBLc82aNVrJK9HM0qVL1Z7Dvr6+LDk5udJpX7p0qcy031V2JiQksEaNGjEArHHjxiw2NrbSeanpFOWLuu/LyMiIHT16VO32+/fvZyKRSO32kydPZkVFRZXO3/Xr13np9+rVixUWFlY6PXXkcjn77rvvmJmZGa+8KO9DLBYzGxsbNmHCBBYVFaX1/NU2z549Y4MHD2aWlpZlnh/qHiYmJiwwMLDW1HNkMhlr06YNl3+BQMD+/vvvKtm3XC5nu3btYnp6ety+AwMDWX5+fpXsX9uysrJYhw4d1J4bAoGALVmyRO25cfLkSWZjY6N2+6+++orJZLJK5+/48ePM0tKSS2/AgAGVTqssBQUFbNmyZczKyqrCvx8ATCgUMhsbGzZ69Git1dFqsxcvXrDPP/+cWVtbM7FYXOHv08jIiM2cOZNlZWVV96GUS2ZmJvv44495dfXr169Xd7ZICTW/GUzLLC0t4eTkhPj4eJXvh4aGKr0WExODiIgIpVYfHx8fODo6cs9zcnKQnp6uMl2RSARvb28Nck60SSaTIT8/n9ctX1tq2hLvZU1cXFRUhPj4eDg4OHCv5ebm4v79+9wwSAV7e3t4eXnxWs/Dw8PVpt2mTZta0wWeVF5ycjKmTJnCtRQriMVi2NjYwNraGvr6+pBKpcjMzERiYiIkEgmePn2KQYMG4fLly2CMKbWYllwpsaJCQ0ORnJzMPe/evTtsbW0rnV5JHTp0QNu2bbneSdHR0fjzzz8rPYQrPDwcd+/e5a4vzs7O+PDDD7WSV6KZ1q1bq30vPz8fSUlJvPMqJydH5cp9DRo0gIeHB6+HmWKCeVVatGhBZWcJlpaW+Prrr/HkyRNueG9J+fn5+Pbbb1X+zhMSEvDDDz8oXc8UGjVqhMWLF2vUm+XIkSO89D/88EOtTxsgkUiwbt06rFixgve6ra0tGjZsiCZNmsDV1RV6enooKChAREQEoqKikJmZiZSUFOTl5UEqlSI1NRW7du1CRkYGtm3bprVysTbJz8/Hli1bsGDBAqV5+gwNDWFlZQULCwuYmJjA0NAQEokEmZmZyMjIQGpqKldvzM3NxZo1a2BjY4PAwMBK90itKkKhEGPGjMH9+/cBAIwxXLlypUrm0hQIBPDz8+N6DzHGcO/ePeTk5NT4700VMzMz/P777+jSpQuvrqHAGMP+/fvRr18/tG/fnlee5+TkYM+ePWpHtrVo0QLTpk2DUFi5ZQQYY3jw4AE3qkMgEODjjz+uVFrv2s/hw4exevVqZGZmcvuytraGk5MTVyYZGRkhPz8f0dHRiIyM5H5Hubm5kMvlSE1Nxd69exEcHIz79+/D3Nxc63mtDfbs2YN58+YpnU8GBga8MsnY2BhFRUXIyspCVlYWkpOTuSk1FGWbg4MDvvnmmxo/rNvc3BydOnXCuXPnIJFIUFRUhEuXLqFz587VnTXyf+pdoBAoXgHs3r17Kt978uQJ77lUKsVvv/2GZcuWKQUKV61ahTlz5nDPU1NT1c59aG9vX28Lv5rI3t4e7733ntqbB02YmppqPU1N+Pr6Ql9fX+U8gopAYatWrbjX7t+/jw8++EBpZd4BAwZg9+7dvHmX3hUoJHVbTk4OVqxYgXPnzvFet7GxwZgxY9C/f3/4+/vDysoK2dnZeP78Of7991/s3r0bUVFRePLkCdavX49Bgwbxyk49PT2NKgovX77kLWLStWvXSqdVmr29PYYMGYKLFy9y5ceGDRswduzYCg9tVtwsvXz5knutX79+vAYoUn18fHzUlp35+flITEzkzUN1+/Zt9OnTR6muMHz4cGzdupU3HKisQGHLli21kPu6pUuXLhg7dixWrFihcqjeq1evMGfOHGzfvp0L0slkMvzxxx+IiopSmaa5uTm2bdvGayirKLlcjr///pv3Wu/evSudnjohISHYsGED77VevXph9uzZ6Natm8r6ZW5uLsLCwhASEoKLFy/iwoULSE9Ph729PUaPHq3xVAy1lUwmQ2RkJG++SltbW7z//vvo1KkTWrdujaZNm8LGxoYL8CQkJCA0NBRnz57Frl27uMAIUDyE19/fH3379q3xAf4+ffrAwMCAGzL79OlT5OfnazR1Rnm5u7vDxcWFqzc+e/YMOTk5tTZY7eXlhR9++AGBgYFK9WUAeP36NbZv347mzZvzhhBfvXpVqcxQMDU1xZdffgl3d/dK5ysrKwvh4eFcQNvKygotWrSodHrqpKWlYfny5dxvQSgUomPHjggMDETv3r1VlkmFhYVcmXT58mWcPXsWGRkZsLGxwdq1a+v1fXJcXBxSUlK451ZWVujZsyc6d+7MlUn29vYQCoWQy+VISUlBWFgYzp07h3379iE2NhZAcdxi2bJl8Pf3R79+/arrcMqtQ4cO0NfX58rjoKAgLFiwoJpzRTjV05Gxem3cuFFtt119fX3eEJTMzEw2atQolZ8dOXIkL9379+8zDw8PlZ9t164di4+Pr+pDJWpkZ2ez6OhonTx0MeRIE3l5eaxJkyZqh8789ttvvM/v2LGDGRgYKH22ZcuW7Pnz57zPDhkyRO1v6dSpU1V5mDVaXR16fOrUKWZqaso7Nnd3d3blyhWWl5enchuJRML+/vtv5uPjwwCwpk2bsmXLlvGG83p5eVU6T4WFhSwwMJAbmqenp8f++uuvSqenSnp6OnN1deUd9/r16yucTlFRERs2bBiXhqWlJTtw4ECtGcpW1yUmJir9n0v+rw4dOsT7/Lp161QOCX3vvfeUhnr27dtXbdlZnuGA9WnosUJKSgpr3bq12u/N1NSUHT9+nPt8dHQ06969u9rPz5gxQ6Mhx4wxFhUVxYRCIZemtbW1xmmWJpVK2eLFi3nDYz09PSs05UFqaio7f/4869SpE1u1alWNq6dUtcePHzM7OztmaGjIRo8ezYKDg1laWto7y968vDx28OBBZmJiwhs++eWXX7KcnJwqyn3lJSUlMW9vby7vbdq0YeHh4VWyb5lMxsaNG8eVkVU59FlX0tLS2IgRI9ROBWBqasrOnz/PfV4ikZRZhvXt25elp6drlKfXr1+z9u3b8/7HYWFhmh6qkt9++4133I0aNWKXLl0q95Dp9PR0FhwczIYOHcp+/vlnjYZa1wVv375l7du3ZyKRiA0dOpQFBQWxlJSUd5ZJ+fn5bO/evczMzIx3Lvn7+7OCgoIqyn3lpaam8obJGxsbq71/IFWvXvYoLGs4kWLlM8VKrbm5uWpXjI2KikJWVhbXAlJWj8JGjRrVyu71dZWpqWmN6/mnKyKRCB4eHnj9+rXSe4oehSW9ePFC5cqQcXFxSkMl1PUoFAgE9aZHYWFh4TuHm5fukVRYWKg05Kk0kUhUo1e9LSoqwrx583iLllhbW2PVqlXo2rWr2p4VYrEY/fv3R1xcHKZPn443b97gzz//5LXIa9KjKicnB1FRUVyvIwcHB61PjGxpaYlFixZhwoQJ3H62bduG0aNHw9LSstzppKSk8BbLcHd3R7du3Wp0r5Tc3FyVvSe0wdDQsEb1KNDX14ebmxuio6OV3lP0KCwpNDRUZW83RV2hpJK9SEsSCATlOv+FQiFsbW1RWFgIGxubGj/ESBtsbGxw7NgxtG7dmtejSyEnJwcbN25E+/bt4eTkhODgYLWLAvn5+WHChAkaT6D/5MkTXvnfuXNnrU/Kn5OTg7CwMKXhzc7OzuVOw9raGn369EGvXr0gFAprdBlTFZo3b46lS5fCx8cHPXr0KPd2RkZGGDJkCB4/foyffvoJjDHI5XKcP38eGRkZMDEx0V2mtcDQ0BBNmzblyp+UlBTEx8fDw8ND5/sWCoXw8/ODUCiETCYDYwx37typkqHPumJlZYUZM2bg5s2bKnsu5+TkYNKkSXj48CEsLCxw6NAhPHjwQGVaRkZGWL9+fYXqEKqkp6cjJiaGe+7q6qqT3sNnz57lXe9cXFzQo0ePcpctlpaW6NSpEzp27AgA9b5McnBwwLJlyyAUCivUK93Q0BCjRo3Co0eP8Msvv3Cvh4WF4fbt2+jWrZsusqs11tbW8Pb2xu3btwEAeXl5CA0NLXPaLFJ16mWg0NfXF2KxWO38dFFRUeUKFKanpyM2NpYbelRWoLBhw4YUKCTVQigUokmTJirfk0qlSEhIgEwmg0gkQl5eHqKiolQGvtLS0riu7UBxYZ6QkKAyXcVcoHWdTCbD2rVryxxGCEApGLtixYp3Vtw6dOiAyZMna5xHXdm3bx/vuIVCIUaPHo0BAwaUq8IXEBCAQ4cO4cKFC0pTPmgSKCwsLERaWhr33MbGRifBp4CAAKxdu5bLe1xcHM6ePYuAgIByV3g3bNjAu2b069evQjf/1WHNmjVYuHChTtIeOXIk9u/fr5O0K0NfXx/u7u64cuWK0ntFRUVISkriys6cnBy1dYXk5GS8ffsWzZs3B1Bcr1A3T7K1tXW5hp7b2dlxc43VJ+7u7li4cCEWLFigsr5148YNHDx4EFOmTMHatWtV1vP09PQwfvx4+Pn5aZyf0nMmaiPN0mQyGQoKCnivVXYu5PoQUC6vyl5f9fT00KdPH+zdu5f7/8fExCAxMbHGl996enq8lYZzc3NVBt11xc3NjXd9VNUIU9t06NABX331Fb7++muVv8uoqCjMnz8fc+bMwZYtW1SmYWBggBUrVsDHx0fj/OTl5fGmXrGzs9NJx4jSjV+K++qKNpTU9wChglAoRN++fSu9fWBgILZt28Y15BYVFSE0NLTGBwqB4uumIlAIFP9mKFBYM9TLQKGlpSVcXFwQERGh8v2SrUKJiYlKvQYUyhsoFAgEcHJyqtG9g0jdJRQK1bYWM8a4SYXNzc2RnJys9nyXy+V4+vQphg8fDgDcohSqeHh41IuLv1wuxz///KMykFCW06dPv/MzRUVFNTZQKJPJsHv3bt5rxsbGmDx5crnnOjIyMsJPP/2E9u3b8yrXIpGIN+9bRRUUFPB6vpqZmemkl4eBgQGmTJmCGTNmQCaTITs7G3///TcGDhxYrh4Bqamp2LFjB/dcLBZj/PjxWs8nqTxFj0JV2P8twFNQUAATExMkJCTwAtQlyeVyPHr0iJsv6O3bt2oDPd7e3vWi7NREQEAAgoKCcObMGaUenAUFBdiwYQMKCwvVzkXdrVs3jBs3TitBs7dv3/Keu7q6apxmaYaGhrCzs+O9durUKcyZM6fGB6bqqsaNG8PFxYULFEqlUty5c6fGj6QQi8W8OQFzc3OVAj66ZG9vz1EVTZsAACAASURBVCvf1M0fWpsIBAJMmjQJt27dwuHDh1V+5s8//0R6ejqePXum8v2+ffti1KhRWslPeno617AgEAhgaWmpk/vPpk2b4uLFi9zz8PBwXLt2TaOF6EjlOTk5oXXr1rh+/TqA4gWwnj17BrlcXumFcapK6etmXWhAqCtq9pmjQ76+vmrfK9kr4NGjR2p7HpbsYaVYuUnVpOfGxsZwdHSs8T9UUjcJhUI0atRIbStfSkoKN3w0JSVFbaAQAB4/fsz9HR8fr3YxmKoYxkKqz9u3b3lDWwDgk08+qfDK7v7+/ko9cGxsbDRazKN0j0IzMzPeROLa1KtXLy7/jDFcuHBB5RB/VY4dO8YLaA4ZMgSenp46ySepHLFYjIYNG/JWei8pKSmJm0IgPj6eNxF5aSWDVnFxcSqHKAOo8G+oPnJ0dMTcuXPV9sp+8+YNFixYoDIYa2Jigr1792o8vE+hdI9CdYFlTRgbG6N169a8ciwiIgKdO3fG9evX1Z5LRHfs7OxgY2PDe628ZX91EolEvHwXFBQgIyOjys6h0oHCuhIQMDY2xrp169SO3klKSsKBAwdU9t50dHTE1KlTlc6nynr79i33/9TT04OVlZVOGp/GjBmjtN/p06dXuOGcaE/J0ThlxSVqmtKBwrrQgFBX1MsehUDx/CTqevWUPEHv3r3L/a2vr482bdrg1q1bAIpvSBUrp0mlUiQlJalMz8zMTKNV9QjRlK2tLWxsbFQOFU5NTeUChUlJSVygUCAQoEWLFoiKiuIqN48fPwZjDAKBAG/fvlUbRFdXWaprhEIhPvroo3cOF4mLi+PNRTdkyJB3rvTXvn17reRRF16+fKk0T11lh0x07tyZF4B2cnLirQ5bUTKZjFvRESjujaOr3tzu7u7o27cvQkNDIZVKkZiYiKNHj8Lf37/M7XJycnDs2DFeHr/++mud5FHbmjRporOV9BRDc2sSBwcHWFpaqgwClgwUvn37lgtQCwQC+Pv7IzQ0lHv/3r17XNkZGxtLgUINde3aFbNmzcLixYtVNlipChIaGhpi6dKlWp0Wo/QoEk3KrrJ89NFHOHHiBP755x/utejoaPTp0wcdO3bEoEGD0L59ezRo0AC2trYwNzennqkayMvLQ1paGtLS0pCamorIyEi8efMGiYmJSEhIQEJCglLvsNLDw2sigUAAIyMj3vRLBQUFXNmka2ZmZrz96Gq+2+pgZ2eH7777DrNnz1bZS1NdmT948GD07NlTa/koWSYJhUKdzZvZpk0bjB07FgcOHOCCUc+fP0fPnj3RpUsXDBgwAO+99x4aNmwIOzs7mJubU4cZDeTn5yM9PR2pqalITU1FVFQU3rx5g4SEBK5cKj33sVQqVduhoyYp3ehXcu5zUr3qbaCwrHlk4uPjUVhYCAMDA14vAH19fbRt25YLFALFXa3z8/O5YUiqUKCQVDcbGxvY2tqWGShkjOHNmzfIzs4GUNybplmzZkhOTuYChYp5eBwdHalHIYpb5wMDA9/5uUuXLvEChd9//32ZiyrVdGFhYbzKqEAgqPQ8KKXPoQYNGmh8s10ySCAQCHR2A6Svr4/PPvsMv//+O1f+79mzB4GBgUpDBUu6e/cunj9/zj3v2rWrTuY204WAgAAEBARUdzaqjL29vdpAYWJiIvLz8yGTyfDmzRvupldfXx/NmzfHq1evuEBhVFQUkpKS4ODgwJvrtTRtzFFVX8yePRv379/H8ePH3/lZgUCA7t274/PPP9dqHkqXX+p6n2qqQYMGWLduHb799lucPn2a229BQQEuX76My5cvw8rKCp6ennB1dYW7uzt8fX3h7++PZs2aUdCwHDIzMxEcHIyQkBBEREQgNjYWcXFxiI2NVTv/eEmVnTeyqpW+JioWFqkKpYf7q2tsro1EIhE+/vhjXLhwAQcPHizXNh4eHvjmm29gYGCgtXyULJMEAoHOgnNCoRALFy6ERCLB4cOHuf8lYwzXrl3DtWvXYGlpCQ8PD65MatasGVq1aoVmzZpp9ZjrqoyMDISEhOD27dtcmaQolxT3bWWpLb3N63K5UNvV20Chl5eX2gVNsrKykJ6eDjMzM16LoVgshp+fH/T09Li52RQ3AgKBAMnJySr3RYHCmic3Nxfp6ek6Sdve3r7GzUdpbW2tdliDYo5CuVyOFy9ecBcWQ0NDeHl58QLjMpkMwcHBGDJkCBITE1X+foyNjevFQib1WVpaGu9/b25uDhcXl0qlVToAo+jBpYmSFWPGmE4rS23atEHfvn25RTgSEhKwZcsWLFq0SOXnpVIprl69yg1ZFIvFGDJkCC12VUMpAoWqKHoUFhUVITw8nDvPjI2NuTqGgkwmw+3bt/HRRx/xhoaVZGJiovUVuusyExMTLFy4EDdu3ChzygyguKfflClTtP79lr4J12WwyNvbG7t27cK+ffuwbNkypbIzPT0dISEhCAkJgVAohLGxMUxMTODm5oZhw4Zh2LBhvIUsSLHXr19j06ZNOH78ODIzM5GTk/POG1U9PT0wxmrlDW3pa2JVroJd+vdR1xbXsbGxwXfffYdDhw69s94hFouxe/fuSted1CldJumy/uPm5oYtW7bg/fffxzfffKN0H5yRkYG7d+/i7t27EIlEMDQ0hLGxMdzd3fHJJ58gICBAJ/O61nYZGRlYtWoVTpw4gfj4eOTk5KidE15BKBRCT0+PN6KmtihdLlDP05qj3gYKzc3N0aBBA6V5toD/H0R68eIFrxJgZWUFZ2dnmJqackGm169fIy8vD/r6+monMrewsCizdwmpegcOHMDUqVN1Usm7fft2jRs2am1trXaoa25uLlJSUrjFShSMjIzg7e2t1Op39epVDB48GElJSSpvimxtbbU2/xOpmSQSCe9/b2hoWOkbjZI3uyKRCA0bNtSopVlRWSqZV13ezIlEInz77bc4duwY13ts8+bNmDx5ssoGorS0NJw/f577/ry8vPDee+9Rj58ayt7eXm0P15ycHG4OoJIrgJuYmMDb21tpXtgbN27gww8/RGJiosqbNwcHB5iZmWn3AOowxbyg7woSAsWjSPr166f131npskrRI19XrKysMHPmTIwcORKHDx/GgQMH8Pr1a6Snp/NuEOVyOXJycpCTk4PExETcvn0by5Ytw9ixYzF16lS4u7vrrPdjbZGSkoLt27djzZo1vPliBQIBzM3NYWFhAQsLC7i5uaFZs2Zo1qwZfHx84OrqCgsLC4wcObJcvVlrmqKiIl6vM319/Sq7/ihGYCnUtV5lEokEp06dKtdn+/Xrhw4dOmg9DyW/U7lcrtPAkeK3Mm7cOAwdOhRHjx7Fnj17EB4ezpVJiv+3TCZDbm4ucnNzkZycjJCQECxevBhjx47FlClT0KJFi3ofIEpNTcWePXuwaNEi3rB8gUAAU1NTWFpawsLCAi4uLkplkoODA+bPn4+VK1dW4xFUTunrZnkXRSS6V29rCcbGxmjYsKHaQGFGRobSinkeHh6wtLSEubk5FyjMyMhAVFQU3N3d1fZQc3Nzq/By8YRok5GREZydnSEUClUG92JjY7kehSW3cXV1VbpJvnbtGgoLC9V2e1fMRULqrtL/d0160ZQMFBoYGGjcuq6vrw9LS0vEx8cDKA7mKAJ4uuLr64vhw4djz549AIqvC4cOHcLMmTOVbsCePHnCXVsEAgHat29P89LVYMbGxmWuLPvmzRtumLGCqakpXFxcYGFhwZ2HAHDz5k0UFBSonX+nQYMGOptPqi66du0ali9fXq7PPn/+HBcuXMCAAQO0ejNaeuElVXVKXbCxscHUqVMxZswY3LlzBw8ePEBYWBhev36NiIgIREdHKzWQZGRkYN26dThz5gwWLFiAzz77rN7ekD158gSLFi3iBfqEQiF8fHzQq1cvtG/fHs2bN4enp6fK32Rt7EkIFAdr0tPTeYtdWFhYVFmgMDk5mVd/qEs9XBljuH37Nnbt2lWuXnw3b97EhQsX0L9/f63mo2SZJJFI1HZi0TYzMzOMGzcOAQEBuHv3Lu7du4ewsDC8evUKERERePPmjVLQsqioCNu3b8eFCxcwd+5cjB49WmeLz9V0cXFx+O6773DkyBGuzioQCODp6Yn3338fbdu2RcuWLeHj41Pn6gmlr5t1qVyo7ep9oFCV/Px8ZGZm8ibYB/iBwpLu3r2LRo0aqW1J9vLy0k6mCdFAkyZNIBKJVAZ14uPjkZmZybupNTQ0hI2NDRo3boybN29yr7948QIpKSlqgy+2trawsLDQ/gGQGsPAwABCoZA3T1ZllZzbVV9fX+MKgqGhIW9i5Ozs7HLNL6WpadOm4dSpU0hLS4NEIsG5c+cwfPhwpUDCnj17uO9LT08Pn376ab29Wa8tyrqGx8XFIT09nXcem5iYwNraGp6enrzGl7CwMCQnJ6v9vTg6OsLU1FR7Ga/D3r59i9mzZyMjI6Ncn09JScHq1avRvHlzrQ51Kx1ErupVXE1MTNCjRw/06NEDBQUFSE9PR0ZGBhITE3Hx4kUcP34coaGhvG1evXqFr7/+GmZmZvj000+rNL81QWJiIpYtW4aTJ09yr1laWmLBggUYNGgQXFxc6uxUEFKplNc4Z2JiUqX1taSkJF4QrS4NO83NzcWGDRsQGRlZrs+npaVhwoQJCAoKgqenp9byYWdnB319fRQVFUEulyMjIwMSiaTKOqwYGBigc+fO6Ny5M7eqdkZGBhISEnDt2jWcOnUKDx484PVqjYiIwJw5c5CVlYU5c+bUu56FcrkcgYGB+Ouvv7hGCGtra0yfPh3Dhg1D48aN63Q9sfR1083NrXoyQpTUr19iCWX1EsjLy0NmZiZvGCZQPMm4qkDhvXv3IJFIKFBYi3zxxReIi4tDYmKi1h81dZEKRaBQlfj4eDx9+pR34TY2NoadnZ3SCsYSiQRPnjxRG3yxs7OjQGEdZ2dnx6t0Zmdn4+3btxVOJykpiXfToqenV2bvrfIwMDDgzceZkZFRJSuoeXl54YMPPuCe37t3Dw8fPuR9Ji0tDX/++Sf33MnJibcNqZnK6vEZFxeH58+f88pOMzMzWFtbK1378/PzERoaWmagsK71FNAFiUSCjRs3KjXmAuoXL2KM4cqVK9iyZYtW5xEs3bARHh6utbQrytDQEA0aNEDTpk3Ro0cPLFu2DI8fP0ZQUBDatm3LG2qckpKC+fPn15oFOLTpn3/+wYkTJ7hjt7e3x7FjxxAYGAgvL686GyQEigOFJRe1MzU1rdIRIHFxcbxAYV0JCDDGcOzYMRw5ckTlb0pd4Ovt27eYN2+eVqcsMDY25tXB09PTq6SxVBVDQ0M4OjrCx8cHPXr0wIIFC3Dr1i0EBQXhvffe45VJubm52Lt3r9Jq4vXB/v378eeff3JBQrFYjJ9//hmLFy+Gr69vnQ4SAsrXTXd392rKCSmt3gYKDQwM4OzsrHKOlvz8fMTExCitYty0aVNYWFgoXVQfPnyIjIwMtUMRKFBY8xgZGcHe3l4nj5o6zPxdgcLSN12K+XlKBwrlcjkePXqksuIhFArh6OhYpyvapDigUXpuoX/++afC6ezbt4/3XE9PT+OFn0xMTHiL6SQkJJRrDjNNmZmZ4cMPP+SG6qempuLs2bO868KuXbtQVFTEPf/+++9rbHlB/r93BQpLNypaWVnBzMxM6dqvaGRRFSgUi8Uqf1dE2bVr13Dw4EGVdS53d3e0b99e7VDK9evX48iRI1qb4L/0uXH9+vUaFXwTCoXo3r07zp49i5EjR/LqvM+ePVMZbK0pZDIZYmJiEBERgczMTK39z06ePMktDCAWizF27Fh06tRJK2nXdAUFBXj58iX33NLSssrmUGeM4cmTJ7zfR4sWLapk37p2//59BAYGqnzPwsICQ4cOVTsn6KVLl/D777+/c7GK8lLMwa8QHR2ts8UbK0MkEqFLly64cOECZsyYwfteYmJilHpA1yQymQwJCQmIiIhQu4BpRUkkEm4xPIVPP/0U48ePrxdzV+fk5PAa1fX19SluUoPU20AhAG5hktIkEglCQ0OV5lJo3rw5TExM4ODgwPvxRkRE8C68JYnFYjRu3Fi7GSekElxdXdUG8BQ9Ckvy8PCASCRC06ZNea8zxvDo0SOVLaD6+vpwcXGpFxe3+qxJkyZKLZwVndQ9IyMDu3fv5r1WujdgZShW61YEXHJzcxEWFqZRmuUhEAjQq1cvNGvWjHvt2LFj3PxA2dnZOHToEPeem5sbhg8frvN8Ec25u7urDegqehSW/rxQKISfnx/vdalUiidPnvAmKVdQzCNLylZUVITly5erHOIrFosxYsQI/Prrr2obHAoLCzF37lyEhIRoJT+enp5KN+WxsbFaSVub7O3tMW3aNKWFxm7cuFFNOVKPMYYHDx5gxowZ+PzzzxEQEIDRo0fj4MGDvIaWyip5zJaWlujatWu9adzMycnh3a84ODhofdVddbKyshAREcEFfM3MzNCqVasq2bcuJSUl4fvvv1c7F+CUKVPw888/o3Pnzirfz8rKwpo1a7TWk04xZZBCdHR0lc1TWBGmpqb45ptv4OPjw72WnZ2NmJiYGtXYohAZGYnAwEB8/vnnGDFiBEaNGoWdO3dq3Bs0Li5Oabj6vHnz6s191IsXL3gdT/z8/GgB2BqkXgcKnZyc1A7zefz4Me/Etbe3h6OjI4RCITw8PHg/YIlEggsXLqhMx8PDo95OzEpqFsUqxqq8fftWqZKiCHj4+fnxzndFq7CquaH09PSqrNJJqo+Pj4/SkLuLFy9WqCV49+7dSgE8Y2NjjVfiFAgE8PHx4Q29uX37ttZ6o5TFzs4OY8aM4Z7Hx8fjt99+AwDcunULUVFR3HtffPEFrXBbSxgbG/NuZkqKiYlRaihUtIa3atWKV3YqAoWqbiwoUFg+S5cuxeXLl1W+Z2FhgalTp6Jly5bYvn272jRiYmLwww8/8Fa6rSw9PT306dOHey6XyxEcHKxxurrg5uam1GNVVdC6ukVGRmLIkCHYtm0bbty4gdu3b+PUqVMYM2YMFi5cqHFZXnK6C8XiVxWVl5en80WydCEkJIT3P/f29q6yocexsbGIi4vj7VvdivK1hUwmw969exEUFKTyfU9PT3z11VdwdXXF1KlT1R5vZGQkxo4dq5VehdbW1mjSpAl37Xn79i3evHmjcbq6YGxszLtnYIyhqKioSuprFfH8+XN06tQJGzduxJUrVxASEoJ///0XX375JdauXatR2llZWUr/98rO3Vl6JGRt8ODBA97x9+jRo/oyQ5TU60Chuh6FQPGJW/JiWrKXiIeHh9J8EwcPHlSZTl1oLSN1h7+/v8rXU1JScOvWLd5rinNeVYDx2bNnKiseih6FhM/S0hLdunXjHrV9wQKRSIQRI0bwXissLMSmTZveOR8gYwwXL17Er7/+qlQ50jRIqNC0aVNez8SLFy9WyTyFADBixAje/Crr1q1DUlISLl26hMzMTADFDU8DBw6skvwQ7Wjfvr3K15OSkrhVrBUUgUJjY2Pe1A1yuRyPHz/mLRqlYGhoSIHCMjDGcOHCBaxcuVLlTaRQKMTSpUu5aQc+/PBDTJgwQe10GxcvXsTvv/+ulZ4rn376KS8gfPLkSa2uipueno4FCxbg999/x9u3byt9E/38+XOl4FbJum1NsW7dOkRGRiodp1QqxR9//IFr165plH7JBpqcnBy8fv263N+pTCbDo0ePMGXKFLUdBGoqxhivF79AIFDby00X+w4NDeX1nGrVqlWtn5P18ePH+O2335RGoAHFIyQmTpwIW1tbAMBHH31U5uJBDx8+xDfffKNxAFooFKJly5ZcPZMxxlu4Rxvy8vIwbdo0bNiwATExMZUuk9LT0/Hq1SvuuYGBARwcHGrUYiZSqRTbt29XWogHKC4PVq5cqVFvUCMjI6Xr1MWLFyuUv9DQUIwdO1ZplE5Nl5+fjytXrnA9xcViMQUKaxpWj+Xk5DB/f38G4J2PKVOmcNvdv3+f6evrl2u7n376qRqPkBC+33//vVznLQAWHR3NbTdixIhybePo6MhSUlKq8QhrJqlUynJzc7mHTCar7ixpLCUlhTVt2pT3/7e1tWWrVq1iRUVFKreRy+Xs77//Zi1btmQAmFgsZk2aNOG2d3NzY8nJyRrnTSaTsQkTJvDytnfvXo3TLa+9e/cygUDA7fvbb79l3bt3555/8sknWjlOUnW2b99e7rIzNjaW227w4MHl2sbb25ulp6dX4xHWbJGRkez9999X+/116NCB5eXl8bZ5+vQpa926tdptnJ2dWXBwsMZ5y8zMZI0bN+bS9fHxYS9fvtQ4XYXNmzczU1NTZmRkxPr168e2b99e4fIjISGBDR8+nIlEIi6fLi4uLDc3V2v51BYXFxe1/zOxWMx++OEHJpVKK51+7969ufQEAgEbMGAAi4mJeed2sbGx7Mcff2Te3t4q8zZt2rRK56kqREREMENDQy6/1tbWLCkpqUr2XVhYyGbMmMHt29TUlO3evZvJ5fIq2b8uFBYWsk8++UTtudqyZUv2/Plz3jbR0dHM19dX7TZWVlbswIEDGtcRo6KimJubG5euvb09y8rK0ihNBZlMxjZv3syEQiEzMjJiPXr0YBs3bmTx8fEVSic7O5tNnjyZd/yenp4sJCREK/nUlqSkJNanT59yxwgqKjc3l3Xu3JmXnp+fX7muIVlZWWzDhg2sRYsWTCgUKuVr6NChLCcnp9J507XQ0FDufkBx3FFRUdWdLVJCvQ4UMsbYp59+Wq5K/MaNG7ltsrKymIGBQbm2+/fff6vx6Ajhe/LkSbnOW0tLS15FZeXKleXarkWLFrW64kcq5s8//2RisZh3DpiYmLAhQ4awR48eceeQXC5nYWFhbNq0acza2pr77Ny5c9nEiRO554aGhuynn35iBQUFjDHGioqK1AYd3+Xq1au8fDVt2lSjm8uKyMjIYG3atOH2bWxszDUuGRkZsY0bN9LvpJZ58OBBucpAa2trXtm5aNGicm3XrVs3OifUkEgkbMWKFWobaE1MTNiZM2eUtpNKpWzHjh3M1NRU7ffeuHFjjYP2UqmUzZo1ixcE2bVrl0ZpKoSHhzNLS0ul4/Xx8WHff/89e/z4cZlBBblczp4+fcr69u3Lq7cKBAK2du1areRR2xwdHcv8rQQEBLCMjIxKp79mzRpeenp6eszf359dunRJ5TUiOTmZrVmzhvn5+fG+Q2tra16DUE0PFC5evJh33DNnzqyyfaelpTFXV1du376+vuzZs2dVtn9dWLlypVL9p+Tjl19+UfnbvHHjhtoySSAQsDZt2rBXr15plDe5XM7+85//8NLeunWrRmkq3L17lzVr1oyXtpGREfP09GSzZ89mDx48KPNaJpPJ2KNHj9jAgQOVyvSJEydy9b+aIj4+nvXq1avMMsnZ2Vmj4O6KFSuU0mzdujU7ceIEk0gkSp9PTk5mmzdvZt7e3szY2JhXJpU8J2tyoFAul7M//viDV6ZOnz5dqcGPVK96HyicP3/+OyvwQqGQnT9/nredn59fubZ7+/ZtufPy8uVLdv78eRYSElLjbxgkEgmLj49n4eHh7OXLl1prqSK6JZFIeC3K6h49evTgbXf+/Ply3ewGBASUOy9JSUns8uXL7Pz589S7qpbKyclhM2bMUHkDLxQKWaNGjVjHjh2Zr68vryeLnp4eGzFiBMvLy2O7du3itYQKBALm6+vL+vbty1q2bMmCgoIqlTe5XM5atGjBy9OJEye0/A2oJpPJ2Nq1a1XeRLi5ubHw8PAqyQfRnsLCwnI1EPbu3Zu33dGjR8tVdn755ZfVdGTFkpKS2Pnz51lQUBBLSUmpUT3DHz9+zGxtbdXWs0aOHMnS0tJUbltYWMiGDRtW5nc/duxYjW+mzp07xwvoDR48mKWmpmqUJmPFZcn69euZh4eHynJWIBAwGxsb1rlzZ/af//yHzZ8/ny1dupQtWLCAjR07lterqGT5GxAQUOHeZCkpKSwoKIidP39epz3RPv/88zL/Xx07duT12q2o8PBw1qVLF16QT/Fduri4sMGDB7OJEyeykSNHspYtW/KuXUBxz/lp06ax/fv3Mz09Pe71igQKZTIZe/XqFfvf//7Hrl69qvPgSExMDK8npJGREYuIiNDpPkv65ZdfeN/hqFGjau3ICrlczm7evKkUwC/5aN68udqAR1FREVuwYAHv3Cn9mDhxIissLNQon7dv3+aVGY0aNdJKr/WCggK2ZcsW5ubmxoyMjFTm39zcnHXo0IFNmDCBzZ8/ny1ZsoQtXLiQTZo0iXl5eSn1flME6yt6L5Cbm8suXbrELly4wBISEjQ+NlWKiorY2LFjlcqLkg8DAwONesLl5uayNm3aqNyHk5MTGzx4MBs/fjwbO3Ysa9u2Le//KhAImJWVFRs5ciS7ffs2c3Z25t6raKAwNjaWnT9/ngUHB7P8/PxKH095FBQUsA8++IDLq5WVFTty5IhO90kqrt4HCg8ePPjOCrytrS178OABb7tx48a9czsnJ6cKDeuYNGkSVwnS9AKhC4WFhSw8PJydPn2aLVu2jHXq1IlZWFgwIyMjdvjw4erOHimnkt281T0CAwN527x+/VpthaDk48cffyxXHuRyOTty5AizsbFhANjJkyd1caikCsTGxrJZs2aVKwANgIlEIjZq1CgWGRnJGGPs2bNnzNPTU+VnjYyM2MGDByudtxMnTvDyNWjQoCoLgDx69Ehlg9KkSZNqfEMQUSaTycocMqZ4fPfdd7zt7t+/X67fxvr166vpyIodOHCAAWAODg7s7Nmz7OzZs9WaH4Xk5GSlYVklHw0aNGCXL18uM43Y2NgyhyBbW1uzXbt2qey5UV4JCQls4MCB3I2eubk5O3fuXKXTK0kmk7EXL16wH374gbVv377cI1pUPWxsbNi3337L3rx5U6E8yOVydurUTt2zngAAIABJREFUKWZnZ8cAsGPHjmnl2FS5efMm8/DwUHsM/v7+Fc5/SXK5nF26dIl16tSpQt+dmZkZ+/jjj9mZM2dYYWEhe/jwIe+GvSKBwvz8fPbNN98wsVjMXFxceFO9aJtEImFr1qzh9TwaO3aszvZXWkREBHNwcOD2bWBgwG7dulVl+9e2hIQE9umnn6oc6qn4jb1r+GxERESZvdTEYjHbuHGjRsFUuVzOayQRi8Vs3bp1WgvQxsTEsFWrVrEuXbqUGfR818PW1pbNmjWrUoG+hw8fMnNzc2ZsbKxRXfFdrl69qrLRRfHQ19dXGmZeUYqe3xX5LkUiEevfvz87evQoKywsZFFRUax58+bc+xUNFCpGj3l7e3N1dF05ffo071h79OhRZVMhkPKrObOFVpPyTOTcoEEDpcUH1E1sXpK7u3uFJmSticvXA8WTta5duxZ9+/bFJ598ggkTJmDx4sW4ceMGMjMzkZ+fr9WJu4luNW3a9J2fadOmDe+5iYkJGjVq9M7tmjdvXq48MMaQm5urlRXeSPVydnbG0qVLsW/fPrRt27bMMs/NzQ27du3C6tWr4ebmBgBo3Lgx5syZo3Llyfz8fERHR0Mmk1Uqbz179kTfvn2559euXcPff/+tlQUM3sXHxwc9e/bkfR9CoRAzZ87kLXxAageBQMAtUlKWdu3a8Z6bm5tzC2yUpTzlsi6lp6dX6/5Vkclk+PHHH8tcRXjkyJHvXJDB2dkZa9asgZ2dncr309LSsGrVKt6q5BVlb2+PL774gltVOCsrC/Pnz0deXl6l01QQCoXw9vbGt99+i0OHDuGPP/7A559/DiMjo3KnYW5ujvHjx+PEiRNYtGhRua7npVXVNbtt27bYs2cPxo0bB1dXV94K9togEAjQo0cP7N+/H7Nnz4a1tfU7Pz9o0CDs3bsXO3bswMCBA6Gvrw9HR8dKl+UymQzZ2dlVci2KiorC77//zp2Lzs7OGDNmjM73CwBFRUVYvnw5EhMTudfGjRuHtm3bVsn+deH48eP4999/Vf7vBAIBJk6c+M7jc3Nzw/z586Gnp6fyfalUimXLlqldTbk8BAIB5s2bB3t7ey7N/fv34+XLl5VOs6SGDRti1qxZ+OOPP3Dy5EmMHj1abRmripGREYYPH44DBw5g2bJlcHBwqHAeMjMzuYUwdKlz587466+/MGXKFHh6eqJBgwZKn9G0XtesWTP8+uuvmDt37jsX+dHX10fv3r1x9OhR7Ny5E59++in09fWhr6//zvKsLFW1anJCQgKmT5/Ou57MnDmzQucPqRraWWKyFvP19cWLFy/K/IyRkZFSRX/UqFHo2bNnmduZmppylcby0FVFXSqV4tatW8jPz4ePj0+FK4hyuRx37tzBjRs3uNeEQiEYY1VSySHatWHDBixevLjMz5Q+R2xtbfG///3vnauxubq6lisPikAhBZjrBjMzMwwdOhQffvghLl68iNOnT+PmzZtISkqCnp4eWrdujWHDhmHgwIFKN30GBgaYNGkSunXrhh07duDMmTPIzs6GlZUV+vTpg4EDB1Z6BTxzc3NMmDAB169fR1paGjIzM7F+/Xr07duXqzzrir6+Ppo3bw6RSMSVkx988AF8fX11ul+iGwKBAFu3bsWPP/5Y5udKl4Gurq64dOkSCgoKytxOETivLjUxUCiXyzF9+nRMmjRJ7Wfc3NzU3myX1LVrVzx8+BDZ2dlqP1NypfSKEggE+Oyzz/Drr79yN/f379/H4sWL8dNPP2llFU+RSAR3d3e4u7tjyJAhKCgoQHBwMO7cuYOQkBCEhoYiJycHjDEYGBjA3d0d7dq1Q/v27dG9e3du9dXKqMrGPbFYjM6dO3MB4KioKIwcOZKrg1paWkJfX1+jfQgEAri7u2PNmjWYM2cOTp06hcuXL+PBgwfIzs6GoaEhWrVqhX79+uGDDz5QWbext7fHkydPuPLdysqq3PuXy+Xc/0qX5HI5tmzZgkePHgEoPu7+/fuXq7ODphhj+Oeff3D69GnuNWdnZ6xcuVLtauS1wcCBA9Xe/4lEIjg5Ob0zaCQQCNCzZ0+8evVKbb1aIBBoHCRv1qwZAgICsGHDBsjlcty9exf79+/HkiVLIBZrHgIQi8VwcXGBi4sLPvjgA2RnZ+Phw4e4ffs27ty5g6dPnyIzMxMymQwGBgZwdXVF27Zt0a5dO/Tu3VujMgkobpApKiqCoaGhxsdSFqFQiNatW2PLli3ca23atMGDBw+49zU9FoFAADc3Nyxfvhzff/89Dh48iMuXLyMkJATZ2dkwMjKCr68v+vTpg379+sHT01PpumJvb4/9+/cjNzcXQHHdvCINSlURKJRKpViyZAmio6O51/r3749PPvlE5/smFVfvA4UikQje3t4V3s7ExKRS26lTVFRUZgVWE5mZmRg/fjzevHmDNWvWYOrUqRXaXiQSYezYsejatSv3mlQqxfHjxxEUFKTzig7RLjs7uwq32ohEIri4uGgtD4wxZGdnV7qnGKmZDAwMMGDAAAwYMKDC2/r4+OCXX37BL7/8otU89erVC0OHDsX27dsBAHfv3sWKFSvw448/VqgCVVGZmZk4d+4cd2NtYGBQ4bKX1CwODg4V7vUgFovL3YBSXWQyGbKysqo7G0r09PTg7u6ulbQUN/C6JBKJsHPnTvTu3RuRkZEAgB07dqBHjx7o16+f1oMjhoaGeP/99/H+++9rNV1VGGPIycmplmt2eno6UlJSuOcNGjTQatnt5OSEyZMnY/LkyRXaTiAQwNPTs1L7lMlkOg8UyuVynDhxAlu3buVe8/DwwFdffQVjY2Od7VchJiYGmzZt4oIP5ubmWLhwIczMzHS+b12qTG9cdbRZr1bFyMgI48aNQ1BQEB4+fAgA2LZtG7p164Z+/fppfX9mZmbo2rUr735Rl9LT06ulw0pWVhavB7qdnZ1GPflKMzY2xoQJEzBhwoQKbScSidCwYcNK7VMqlSIjI6NS25aXTCbDmTNncOrUKe41Ly8vbN68mUba1FD1PlBYU+Tm5iInJwdAcYWssLBQbQVCIBBALBZrpYW6PIRCIW/4HgAUFhYiPDwcV65coUAhqTC5XM4bdiOVSlFYWKj282KxuFa3QJPqY2pqiv/+97+4ePEiXr9+DQDYunUrHB0dMXfuXJ2dV48ePcK9e/e4561bt4a/v79O9kWIJiQSCRcoZIxxPb0LCgrUVt5FIpFWeqTUNY0bN8bSpUsxdepUZGdnIzMzE0uWLIGbm1u5prqpqRhjyMrK4gKFVXnNDgsL43qfiMVieHl5vXNoXk1XMjjPGINEIlH7fQoEAujp6VX4RvrKlSuYPXs215tZLBZjxYoV8PPz0yzz5SCVSrFo0SJcvnwZQPF9RP/+/TF48GAKCFQxPz8/zJs3DwEBAQCKp1r48ssvceTIEaWpMmqb5ORk7u93lUnavGYFBQXxeuH379+/1p/XBQUFXKDwXWUSULkyPiIiAkuXLkV8fDwAwMLCAnPmzPl/7N13fBR1+gfwz2xNdjdtk5DeCSSkJ1SpKqeAp6diuzs88ezdA+tx4tlFPc9DUe9O71Qspz+xi/QWaaGlB0hCAglppG7K7mazO78/FsYsEEgjm/J5v155wczszj6zmZ3dPPv9Ps+g/zJ1RBvooogkihUVFeItt9wixsXFieHh4aKvr6+o0+mkwrhyuVzUarVd/kRGRorr16/v9uPV1taK0dHRolqtFlesWNEvx2AymcQHHnhAivmTTz7pl/3S8PTuu++KSUlJ4ujRo8XAwEDRw8PDoQi4i4tLl+e7u7u7+Nxzz7EBBPVJZmamQ0MeHx8f8auvvrogj9Xe3i4+9NBDUmMDmUwm/vWvf+1TswSi/vLpp5+KaWlpDtfjU0XFBUEQXVxcznlN1mq14uLFi519GIOWwWAQb7vtNunzkSAI4tVXXz2k3sPee+89MSkpSYyOju7Ve/ZTTz3VL9c7q9Uq3nfffdLjjho1atA02umulpYWceHChWJ8fLwYEREhjho1SnRzc5O6KQuCIGo0mi6fz5CQEHHt2rU9esySkhJxxowZDo0PHnvssQHpNGyz2cS//OUvDs0+9Hq9mJeXd8Efm87OarWKDz74oMP5MGnSpD51Dx9INptNXL16tTht2jRxzJgxYlBQkOjl5eXQ2Ol871nXXHON2Nzc3C/x3HzzzQ7P5e7du/tlvwOltbVVfOGFF8SkpCQxMjJS9Pf3F93d3aVrkkwmO+c1SavVim+99VaPHtNsNosXXXSR9LlYEATxhhtuEJuami7QUVJ/4NfBTmAymVBQUIC8vLyzbrdarVJ9gbNpa2vjlE0aUsrKyqQaOWdzrvpdcrl8QIoV0/CWlJSEf/zjH3jsscfQ2NiI2tpa/PnPf4anp+d568321IYNG/Cvf/1LGm0dHR2Nq666iiOwaFCorKxEdnb2WevNiaJ43nqKAM450mCkc3Nzw1/+8hcUFhZi27ZtEEUR33zzDRYuXIhXXnmlV0X7B9rx48cHxXv2/v378fHHH0vL8fHxmDJlSr/se6BYrVbk5+cjNzf3rNtFUTxn0xu1Wt2jz/zV1dV4/PHHkZ6eDsA+8ufqq6/Go48+esFnIhmNRvz73//G3//+d2nGiL+/Pz799NMhPaJ2qJPJZFi2bBkqKirwzTffoKOjA3v37sWjjz6KV199FUFBQc4O8ZxEUcSJEyeQnZ3dZZmM871vna/Genfj2LJlC9atWyetmzlz5pAbmWm1WlFaWupQY7Uzm8123kZcPalXW1FRgQcffNCh18H48ePxt7/9De7u7t0PnAYc/2pxAr1ejwceeAAVFRXSusbGRixfvhytra0ICwvDXXfd1eWQ3v6uj0h0oc2ZM8fhzcBiseC7775DRkYGAGDhwoVddv2UyWRD7g8DGpxuuOEGFBcX44033oDZbMbBgwdx33334R//+Ad+9atf9Xn/oihi8+bNuO+++xw+lF577bXd7ghOdKHNmDEDL730kpR8MJlM+OKLL5CXlwedTocbbrgBAM75OYPT6M8tPDwcb775Jm6++WZkZ2cDAFauXAmFQoHnnnvugtdL7KvZs2c7NAiwWq1SkyoA+MMf/tBlYyaZTIaJEyf2OSmVk5ODW2+9FU1NTQDsDaIeeeSRHjUNGQxcXFzO+MxvMBjw/vvvo6qqCp6enrj33nu7bFzh6ura7c/8paWleOihh/D9999LX1SlpaVh6dKlfW62cD6iKOKDDz7ASy+9JA12GDVqFJYtW9bvX8ZRz7m4uODZZ59FTU0N0tPTYbVa8X//93+w2WxYvnz5BW/w1heCICAtLQ3PPvusw5dUX3/9NXbt2gWlUokbbrgBiYmJXe4jMjKyz02QSktL8dJLL0lTnvV6PR5++OEhN+1YrVbjuuuuQ3R0tHSdaGlpwYoVK1BfXw9fX1/cfvvt8PT07HIf3a1DWVVVhSeffNKhqdH48eOxcuXKXtdTpAHkrKGMZB9KfernyJEjoq+vrwhAnDJlimgymRy2n/7TE5x6TINB5/O3tbVV/OMf/ygN2//222/77XwnOpempibx3nvvdZg2EhgYKK5atapP55rZbBZXrlwpRkZGOuw7JiZGrK+v78cjIOq7ztfXhoYG8aqrrhIBiH5+fuKPP/4o/vjjj7wm94OcnBwxOTlZuh6oVCrxt7/9rWgwGJwd2nl1/n2bzWbxnnvukY7jyy+/vGDnh81mE7du3SqmpKQ4XEufe+65IVu+4fTnp7y8XExISBABiKGhoeLRo0f7/HwWFhaKs2fPlqb2nXr/OXTo0AV/zVqtVvHFF18U3d3dpcd2c3MTly9fLppMpgv62NR9NptNzMvLE6Ojo6Xfk0wmEy+++GKxpKTE2eGd1+mvi7vuuksEIGo0GvGzzz4752uor6+BQ4cOiRMnThQVCoVUJuzuu+/ut+nMztD5uamqqhIjIiJEAOKYMWPEkpKSPj+Xra2t4m9+8xuHshXJycliRkbGBT4y6i8cUehEnb+BOP3bCEEQevwNRWlpKT799NMzhgObTCY0NDTAarVi7dq1DsVfT4mJicGVV145IJ3QaGQ61/ne1Tqi/ubu7o633noLLi4uePfdd9HW1oYTJ05gzZo1uPTSS7sc1dHZt99+iy1btiAmJgYKhQIlJSX43//+JzVLAeznc2BgIL7++ushNwKGhr/Tr8e8Jl8Y8fHxePfdd3H33XcjMzMTFosFW7ZsQUFBASZOnOjs8M6pvz+jno/NZkNDQwNWr16NRYsWSZ2OVSoVFixYgMWLFw/Z8g1ne/7Od5uesNls2LNnD7KzsyGKIuRyOSZOnIgvv/xyQEavVlVV4ZNPPpGaMrq7u+PZZ5/F/fffz+vIICIIAsaNG4f09HRcccUVyMzMhNVqRW5uLrZt24bw8HBnh3hO5zuX+vtcE0URjY2N+P7773H//fejubkZgL28wsUXX4ynn34aOp2uXx9zIHX1fJ1a39fnMyMjA9u3b5dKUcTGxuLdd98dclO1R7Kh+Y5LZ3XkyBG88MIL56wr8N133zm0JT/lN7/5DS699FImColo2BMEAU8//TQ8PT3x7rvv4tprr8XSpUu7lSTs6OjAd999h//+97/n7EwfFxeHZcuWYcyYMf0dPhENIZMmTcI777yDp556ChUVFXj55Zc5dfss9u/fj2eeeQY//fSTNC3excUFd955J5544gm4uro6OcLBSyaTYf78+Whvb8fjjz+OqVOn4plnnkFAQMCAPH5gYCBWr16NBx98EEeOHMGjjz6KBQsWMEk4SPn5+eHjjz/GE088gfz8fCxduhS//e1vnR3WoFNfX4/bbrsNGzdudEiCz58/Hy+//PKgnq49GMyaNQv/+c9/sGTJEgQFBeHFF19ESkqKs8OiHmCicBgJDAzEwoULzygibbFY8O2336K5uRkXXXTRWWudJCcnO9SjISIaztzd3bFo0SLMmTMHsbGx3f5WuKamBoWFhV0mCQFg7ty5ePrpp5GamnrBi8cT0eA3efJkfPjhh6irq0NsbGyXNahHMlEUceDAASlJOHbsWLz88suYNWvWOWtlkZ1KpcLvf/97xMTEIDQ0dMCShKeEhobinXfeQWNjI8aMGcMk4SA3duxYrFixAnV1dYiPj+dnlbNQKBQoLCyUkoTBwcF45plncO211/Ka1E1z585FVFQUvLy8BvyaRH3HROEwEhMTgxUrVpyxvq6uDjt27IDRaMRNN92Ee++91wnREVFnoiieM9nU3W1yuZwfyHtJq9X2eAqEwWCAIAjQaDQO3eJcXV1x0UUX4YEHHsDll1/e36ES0RAXGBg46JuYONP48eMxefJkrFu3Dtdddx2ef/55Pl89pFAoMGnSJKc9fkBAAJMBQ4QgCAgKChr0HY+dSafTYcGCBXj++ecxZ84cvP766wgLC3N2WEOKQqFgx/MhjIlCIiInaGxsxK5du9DQ0ACbzQabzQZRFGG1WiGKosO6U//v/COKIpRKJW655ZZuTZml/hETE4PNmzejsrIS5eXl6OjogKurK8aMGTOka9UQETmTIAh44YUX8NxzzyEmJoZfgBGRU8nlcixcuBDXXHMNxo4dy2sSjThMFBIROYFGo4FGo8FHH32EmpqaXu0jKSmJU9icQCaT8Zt4IqJ+drbSOEREzsJRsjSSsSDBICGTyaT6EOebkkg0HHSeMjsSz3e1Wo0ZM2bg1VdfRXR0dK/2kZqaygLvRNQngiCc8fmDn0PodDKZbES/Z/enzl2j+Voj6h3+3dx/ZDKZNPCAzyedwkThIKFWq6WOw62trTCZTE6OiOjCkclk0Gq10pt8Y2OjkyNyDkEQEBwcjD//+c+YMmVKj4pJ6/V6xMTEcEQhEfWJQqGQps13dHSgtbUVra2tTo6KBhNBEKDT6aT3qIaGBidHNLTJ5XLpNWc2m9HW1ubkiIiGHm9vbwCA1WqFwWBwcjRDm1KphJubGwDAZDLxmkQAmCgcNNzd3aULXlVVFSorK50cEdGFI5PJ4OvrC4XCXv2gqKgIHR0dTo7KeUJDQ7Fo0SLceOON0hcG5+Pm5gY3Nzd+60dEfaJSqeDn5wcAaGtrQ3l5OcrLyx2a9dDIJggCRo0aBaVSCQAoLCwc0e/ZfaVUKuHr6wsAaG5uxrFjx5wcEdHQEx4eDkEQYLFYcPjwYWeHM6S5urpKU6wbGxtRVlbm5IhoMGCicJBwdXVFamoqAHuX4s8//xxWq7Vf9q3VarF06VK8/vrrmD59er/sk6gvFAqFQ/OHbdu2jfg3Jb1ej1tuuQX33XcfPD09z3v7iooKPPfcc3j11VeRmZnJP9qIqFcUCgVSU1MhCALMZjPWrFmDNWvWoKWlxdmh0SAhk8kQHR0tjTjZunUrSktLnRvUEObq6oqYmBgolUqYzWasXr2aI3iIemj8+PFwd3eHKIr48ccfcfz4cWeHNGSp1WrMmjULgiCgubkZn332Gf+uIMj/+te//tXZQZCd2WzGhg0bYDQakZWVBZ1Oh4CAAFgsFhiNRrS0tKC2thZbt25Fe3s7Ro0a1a0OTAqFAomJiZgwYYI0aqC7WltbkZOTg+LiYhw7dkz6KS0txZYtW5Cfnw8ASEhIgFwud7hNZWWlw6gxolMEQYBcLsfWrVtx/PhxVFZWora2FjExMRBFURr23tDQgAMHDuDQoUOIiooa9h3H5HI5oqKiEBoaivz8/C7/UD9V38hgMKC4uBjr16/H1q1bYTKZ4OXlBZlMBoVCMeyfLyLqH+7u7vjhhx9QX1+Po0ePoqSkBMeOHUNsbOxZr8nbt29HfHw8rzEjhCAIUCgU+Pnnn3Hs2DHU1NSgurpaaj5y6vxobGxEVlYW8vPzERER0aNyGiOJXC5Ha2srNm3ahObmZhQWFkKtViM0NBTt7e0wmUzSZ/709HSYzeYef34nGu48PT2xfft2FBcXo7a2Fnv37kVcXBwUCoU0pb+pqQmHDx/Gxo0bERERAbVa7eywBy29Xo9vvvkGBoMBeXl5aG1tRWRkJKxWK0wmE1pbW1FfX48dO3agpKQEERER/AwwzAki560NGidOnMCSJUvw0UcfwWw2Q6FQICwsDAEBAVCpVDAYDDh69CgMBgMeffRRLFmyBC4uLhc0pszMTNx44429GtKt1+uxa9euXjdqoOHNYrHg448/xiOPPIL6+noA9nojkZGR0Ol0sFgsqKqqwrFjx5CcnIwNGzZIoxlGgsLCQrz//vvYv3//GaOLw8LCMGvWLBQUFKCwsNChXpRGo0FSUhKSkpIwduxY6fkkIuqKKIr4/PPP8cgjjziMytDr9YiKioKbmxva29tRWVmJsrIyBAYGYsuWLQgLC3Ni1DSQLBYLPv/8cyxevBg1NTUAfjk/Tr1nV1dX4+jRo0hISMDatWulkjp0pvr6ejz77LN4++23YbFYIJPJEBoaiqCgIKhUKrS1taGsrAw1NTW477778MYbbzg7ZKJBZ/Pmzbj//vtRUFAAURTh4eGByMhIeHl5wWKx4MSJEygpKYGvry+++OILTJkyxdkhD1o2mw2vvfYali1bhvr6eshkMvj7+yM0NBRarRatra0oLy/H8ePHMW/ePHzwwQfw8fFxdth0AXGo1yDi4+ODpUuXws/PD++++y5qa2tRXFyM4uJi6TZyuRzx8fEIDQ11YqREfadUKnHTTTfBx8cHL7zwAvbt24e6ujrU1dVJtxEEAf7+/khMTITFYnFitAMvOjoaixYtwieffIK1a9c6HP/8+fMxd+5cNDU1oaqqCrm5udi6dSsOHz6MtrY27Ny5E3v27IFer0dQUBBSU1Mxc+ZMBAUFOfGIiGiwEgQB8+fPh0qlwrJlywAAe/fuRX19vfRFzqnbBQQEsIzJCKRUKnHddddBr9fj+eefx549e844PwDAz88PSUlJ/VY+Z7jS6/VYsmQJgoOD8dZbb0mzdTpP6ZbL5Rg7diyCg4OdFyjRIDZt2jQsX74cL7/8MjZt2oSmpiYcOHDA4TZeXl6YMmXKBR9cM9TJZDLceeedcHNzw2uvvYYjR46goqICFRUVDrcJDw9HYmKiEyOlgcIRhYNUc3MzNm/ejOzsbDQ1NUGn0yEiIgJTp05FVFSUs8Mj6lcWiwVZWVlIT09HTU0NZDIZ/Pz8kJycjAkTJsDV1dXZITpNR0cHPvzwQ6luqVarxapVq6Si8qeIoogjR47gu+++w7Zt29Da2nrGH2opKSm49tprkZKSArVazWlhRHSGU3WJ9u/fj507d6KqqkpqQDV+/HikpaWN6Gsy2c+R7OxspKeno6qqCoIgOLxnd7cpF9m1tLTg559/xr59+2AwGODi4oLQ0FBMnjwZsbGxfK8m6oZDhw5h06ZNKC8vh9Vqha+vLxITEzF16lRek3rIYrHg559/xt69e1FbWwuVSoWgoCBMnjwZSUlJnHI8QjBRSEQ0yImiiPXr1+Pjjz9GXFwcHnvssXO+STc2NmLfvn3YtWsXjh49ioqKChiNRml7QEAAJk2ahJSUFISHhyMgIAByuXwgDoWIiIiIiIgGMSYKiYiGAJvNhpycHLi4uEgF5M/HarWivLwcxcXFyM7Oxp49e1BVVSVtd3V1RWhoKCIiIjBhwgQkJyd3q+MyERERERERDU9MFBIRDRGnLtc9HfIviiI6OjqkjurffvutQw0XQRCgVCrh7u6OqVOn4te//jW7mREREREREY1ATBQSEY1AFRUV2LhxI/bu3YvKyko0NjZKNQ1PFVC/9NJLkZiYCG9vb7i5ubFOEhERERER0TDHRCER0QjW0tKCwsJC5OfnIzc3F7m5uWhra5O26/V6xMTEIC4uDgkJCYiOjoZKpXJixERERERERHShMFFIRESwWq1oaWlBXV0ddu7ciQ0bNqCsrEya7nxqanJAQABmzZqFSy65BB4eHk6OmoiIiIiIiPoTE4VERHSGjo6qkB4fAAAgAElEQVQO5ObmYvXq1cjKykJLSwtMJpO0XaFQYPr06bj88ssxevRoaLVajjQkIiIiIiIa4pgoJCKiLomiiJqaGhw4cADZ2dkoKipCWVkZ2tvbAdjrGYaFhSElJQVxcXGIjo5GQEAAG6EQERERERENQUwUEhFRt5jNZlRXV6OkpAS7d+/Gjh070NzcLG3X6XTw9/dHVFQUpk+fjuTkZLi6ujoxYiIiIiIiIuoJJgqJiKhXzGYzNm/ejFWrVuHo0aOw2Wzo/Jbi4+ODOXPm4Morr4Rer4cgCBxpSERERERENIgxUUhERH1is9lQWFiI7du3Iy8vD+Xl5airq5OShgqFAikpKZgyZQrGjh2LwMBAuLm5MWlIREREREQ0yDBRSERE/UIURTQ2NqK0tBQHDx7E3r17kZeXB4vFAgAQBAGjRo1CZGQkxo0bh4kTJyIqKooJQyIiIiIiokGCiUIiIup3NpsNJpMJNTU1WL9+PTZs2IDa2lppu0KhgFqtRnh4OK666ipMmzYNLi4uToyYiIiIiIiImCgkIqILrq2tDfv27cPGjRtRUlKCuro6GI1GabuHhwemT5+OadOmITQ0FHq9Hkql0okRExERERERjTxMFBIR0YARRRHl5eXIy8uTfsrLy2G1WgEAarUaERERiI2NRXx8POLi4uDj48PpyURERERERAOAiUIiInIKo9GIxsZGFBYWYvPmzdixYwc6Ojqk7TqdDl5eXkhMTMTs2bMxbtw4KBQKJ0ZMREREREQ0vDFRSEREg0JTUxPWrl2L9evXo6amBkajURppKAgCQkNDMW/ePEyfPh1ubm5wcXGBTCZzctRERERERETDBxOFREQ0qJjNZhw8eBD79+9HQUEBiouL0djYKG3XarVISUlBUlISxo4di/DwcGi1WidGTERERERENDwwUUhERIOSzWZDQ0MDKisrkZOTg/T0dBQVFUmjDBUKBXx8fBASEoLU1FRMnz4dAQEBTo6aiIiIiIho6GKikIiIhgRRFHHkyBF888032LJlC4xGI05/C0tNTcX111+PlJQUKBQKNkEhIiIiIiLqASYKiYhoyGlsbERGRgZ27NiBsrIyVFVVwWQySduDgoIwZcoUpKSkIDQ0FH5+fpDL5U6MmIiIiIiIaPBjopCIiIYsq9WKY8eOoaioCFlZWThw4ACqqqqk7RqNBmFhYYiKikJaWhqSkpLg4eHhxIiJiIiIiIgGLyYKiYhoyBNFEe3t7WhtbUVWVha+//57ZGVlSdsFQYCLiwvc3d0xdepUzJs3D+Hh4ZyaTERERERE1AkThURENCyVl5dj/fr12LNnD2pqamAwGKRGKHK5HDExMbjsssuQmJgILy8vaLVayGQyJ0dNRERERETkPEwUEhHRsNbc3IxDhw4hLy8PeXl5yM/Ph9FolLZ7e3sjLi5O+omKioJKpXJixERERERERM7BRCEREY0IVqsVTU1NqK2txa5du7Bp0yaUl5dLnZNVKhU8PT0RFBSEGTNmYObMmaxnSEREREREIwoThURENCJ1dHQgOzsbP/zwA7KystDW1ob29nZpu0KhwMyZMzF37lxERUXB1dUVSqXSiRETERERERFdWEwUEhHRiCaKIqqrq7Fv3z5kZmbiyJEjqKiokJKGcrkcERERSEtLk6Ym+/n5sREKERERERENO0wUEhERnWQ2m1FRUYGSkhJkZGRg9+7dMBgM0nY3NzcEBgYiKioK06dPR0JCAlxdXZ0YMRERERERUf9hopCIiOgsRFGEyWTCpk2b8OWXX+LYsWMO2wVBgK+vL+bOnYtf//rX0Ov1ToqUiIiIiIiofzBRSEREdB42mw2HDx9Geno68vLycPz4cTQ0NEiNUJRKJVJTUzF16lRER0cjICAAOp2O05OJiIiIiGhIYaKQiIiom0RRRENDA44cOYKCggIcOHAA+fn5sFgsAOyjDP39/REVFYX4+HikpaUhPDwcMpnMyZETERERERGdHxOFREREvWC1WmE0GlFTU4N169Zh06ZNqKurk7YrlUq4uroiIiICV1xxBaZNmwa1Wu3EiImIiIiIiM6NiUIiIqJ+0NbWhj179mDdunUoLS1FY2MjTCaTtN3DwwOzZs3C9OnTERISAk9PTygUCidGTERERERE5IiJQiIion5ks9lQVlaGnJwc5OfnIz8/HxUVFbBarQAAtVqNyMhIxMfHIy4uDrGxsfD29mY9QyIiIiIicjomComIiC4Qo9GI2tpaFBYWYsuWLcjIyJDqGQKAu7s79Ho9EhMTcckllyA2NpajDImIiIiIyGmYKCQiIhogjY2N+Omnn7B27VrU1taivb1dGmkoCALCw8Mxb948zJw5E1qtFmq1miMNiYiIiIhowDBRSERENMDMZjPy8vKwb98+HDx4ECUlJWhqapK263Q6pKamIjU1FdHR0QgJCYFWq3VixERERERENBIwUUhEROQkVqsV9fX1OH78OHJycrBjxw4UFxdLowwVCgX8/PwQGhqKlJQUTJ06Ff7+/k6OmoiIiIiIhismComIiAYBURRhs9lw5MgRfP3119i2bRuMRqO0XRAEyGQypKWl4brrrkNSUhLrGRIRERERUb9iopCIiGgQqq+vx+7du7F9+3aUl5ejpqYGZrNZ2h4UFIRp06YhNTUVwcHBGDVqFGQymRMjJiIiIiKioY6JQiIiokHMarWitLQUhw8fRnZ2NrKyslBdXS1t12q1iIiIQHR0NFJSUpCQkAB3d3cnRkxEREREREMVE4VERERDgCiKMJvNMBgMyMrKwo8//oicnBxpuyAI0Gg08PLywkUXXYTLL78cYWFh7JrcS6b6ehR/+ikaDx2CV3w8om68EWpPT2eH5VSizYbKrVvRVlUlrfOIjobv+PFOjGpw6zCZULVtG0x1ddI63/Hj4REd7cSoaDARRRENeXko/uwzdBiNCJo9G8GzZ0OmUjk7NCIiGqGYKCQiIhqiysvLsWbNGmRkZKC2thYtLS0OjVBiY2MxZ84cJCQkwNPTExqNhonDbqjetQvrrr4axk4jN71TU3HxBx9An5DgxMicy2ax4KcrrsDx9euldXH334+pb77pxKgGt7aqKqy75hrU7NolrZu6YgXi7r3XiVHRYCHabDj0wQfY/cgjMDc0SOujb74Z0999FwqNxonRERHRSMUq6ERERENUcHAwbr/9dtxwww0oKChATk4OCgoKcOjQIRiNRuTk5CAnJwc+Pj5ISEhAfHw8YmNjERERARVHq5xVu8GAjCeecEgSAkDdgQM4/OGHmPDCC5Cr1U6KjoiGE4vBgMyXX3ZIEgJA4cqVCJg1CzF//KOTIiMiopGMiUIiIqIhzt3dHZMmTUJaWhoaGxtRU1OD3bt3Y8uWLTh+/Dhqa2uxefNmbN++HXq9HiEhIZg2bRpmzJjBeoanaS0rQ8vRo2duEEXUZmbCajYzUUhE/aK5rAyGoqKzbitfu5aJQiIicgomComIiIYJhUIBHx8f+Pj4YNy4cbj55puRlZWF7777DpmZmTCbzaiqqkJVVRX27NmDN998ExdffDF+/etfIzIyEi4uLiO+c7JMpYIgl591m1yt5tTtYebgf/6DstWrAQBqb2+Mf/ZZaPz8nBwVjRRKV1cIMhnEkyUjHLZx2jERETkJE4VERETDlEKhQFpaGlJTU6Xk4IEDB3D06FFUVFTAYrFg/fr12LRpEyIjI7F48WJEj/AmC+6RkQi89FIYiosd1iu0WoRecQVrhg0zVenpKFm1CgCgDQ5G8mOPAUwU0gDRhoQg+PLLUf7TT+hcNl7t5YWxt9/uxMiIiGgkY6KQiIhomBMEAQEBAbjqqqtw+eWXo7y8HEVFRdi7dy/27NmD5uZmlJeXw8fHx9mhOp0glyNt6VIodToc+eILtJaXQxcWhpjbbkPk9dd3OdqQhiZzfb2zQ6ARTK5SYfyzz0Lt6YmSr7+G2NEB75QUxD/0EPwmT3Z2eERENEIxUUhERDSCqNVqREVFITIyErNnz0Zrayu2bNmCEydOwMvLy9nhDQraoCBMfuUVTHzxRdg6OiBTKCBTKiGM8GnZw9HpTSSIBpQgwDctDbM+/BAz3n8fotUKuUoFmUIBsMwBERE5CROFREREI5AgCJDL5XB3d8dVV13l7HAGHUEuh1wuZ+OSYY4jCmkwkCkU9uQgERHRIMCvxomIiIhoROKIQiIiIiJHTBQSERER0fkJAobbZEgmComIiIgccYw7ERERXVii6NDRUxAEqf6WaLOh3WCApakJto4OCHI51Ho9lG5u9tt13o3NBnNDAyzNzRCtVsiUSvtttdpu1fMSbbY+HUafahSe/hx0sS/RZoOluRmW5mZY29sBmw2CQgG5iwuUOl23j7W7bBYL2pua7M+pzSbtW65W2x9Pp5MauMgUCgjDaHqkpaUFVqPRYZ0oij06Tzqfy92lcHU963qbxWJ/LbS0QOzoAADIlEooNBqoPDwgUyp79DjdYbNYpPPNZrUCoggIAuRqNVRublDodMOuNqeto0P63Vvb2+3PtSgCMhnkKhUUrq6QazRQuLj0/rV22uu9xwThjOtffxBtNliNRrQ3N8NqNEqveblaDYVWa3+9d/P33eXtunmtgyjC0tqKdoMBVpPJfq2TyyF3cYFCq4XKzY11GomInGT4fNojIiKiQam5tBRF//uflIAZ/bvfwT0iAu1NTSj56iscW70adZmZaDcYoNTp4D9tGqJvvhmBs2ZJdbtM9fU4/OGHqNi4EfW5ubAajVB5eSFg+nREL1iAgJkzzxlD6/HjOPLll7C0tPTqGNR6PSKuvhqagIBe3b96504c37xZWo698064+vpKy7aODtQdOIDjmzahPjsbddnZMNfVwdbRAaVWC21QEDxjYxF4ySUIufxyqPX6XsVxiqW5GeUbNqB23z7U7tuHhvx8WE0mKSmoCQiAx9ix8Js8GSFz58IjOhoAoNBo+vS4A60uKwuNBQWwWiywtbfDdvJfa3v7GfUJLc3NyH/7bai9vbu9/8CZM+E/bVqPYlK6uzssW81mVGzahKrt21GXmYmGggJ0nDxP1Xo9dGFh8E1LQ+DFF8N/xgzIVaoePd7ZtFZUoHLrVjTk5aE+NxcN+fnoaG6GzWaDTKmExs8PXnFx8IyNhe/48fCfOnXI/e5PZzWbUbFlC05kZKAuOxutZWUw1dZKSXKZSgUXHx+4hYVBFxEB76QkjJo4EZ6xsZD1sNu5obQURZ9+2utYdSEhGPOHP/T6/mfTXFqK8rVrcWLfPjQWFKD56FHpNa8JCIB7VBS8YmMh60ZdVhe9HuPuuees2+pzclD6/ffS8phbboEuOFhaFm02NB06hPL161GXlYW6rCy0VVbC1t4OuasrtIGBcB89GoGzZiH4ssugCwlhwpCIaIAJYp++7iIiIiI6t+MbN+KnuXNhs1gAAJd+/jnCrrwSWa++ipzXX0d7U5PjHQQBbuHh+NVXX8EnORmmujrseuQRFH/6qX2U3Wm31QUHY9o77yD0iiu6jKF61y6snz8fbRUVvToGj+hoXPLpp/AdP75X989ctgwZTzwhLf9m5074TZ4MwJ6gylm+HIUffghDcXHXI9oEASoPDwTMmIFpb78NbVBQj+MQRREnMjKw79lncWL3bpgbGs45gk7h6gpdRAQSFy3CmFtuwdbbbkPhRx9J2+Puvx9T33yzx3EMlIwlS5C/YgVEqxWizQbRaoXNaoV4avRcH014/nmkLFnS5fa2qiqsu+Ya1OzaJa2bt3Ytgi+7DIA9eZPx5JOo2LwZphMnuvxdCDIZNIGBGHvrrUhcvBgqD49exWs1m1H8+efIf+cdNBYUoN1gOOfzIMhkcPXzQ+CllyL1qafgOWZMrx7X2WoyMrBnyRI05ObCeOKE/fd/HoqTCXrf8eOR8PDD8ElL6/Zou/ING7D6V7/qdbx+06bhN+npvb5/ZzaLBQffew/5b78NQ0kJOlpb+7xPjzFjcOOhQ2fddvijj7Dllluk5Tk//YTQOXMA2K8/h/7zH+QuX47GgwdhO/163olCq8WoiRMx5fXX4Z2c3OeYiYio+ziikIiIiAZUS2kpjq9fj8yXXrJPOTudKKK5pAT7n3sOsz/7DAffew/Fn312ZpLw5G1bysqw/YEH4J2c3KvkmTOYTpwARBFmgwFb/vAHHP3uu/PfSRTR3tiIo999h8ZDh3BVerrDqMTu3L98zRpsWbgQxpqaM7d3mu4oiiIgiugwGtGYn4+f77kHdVlZEE8me4eKjra2MxPRTqZ0d4dos6F6xw5s+v3v0XLs2HnvI9psaC0vx4EXX4RCo0Hy44/3eJRVh9GIbXfeiaKPPz5jmyCT/TKtXBR/SazabGirrETRxx+j6uef8euNG+EeGdmjx3UqUcTxTZuw9Y9/PON5FuRy+0+nc148lUQG0NHaiqbDh9F0+DBKvvoKYxcuxKRXX4VSpxvww+itDqMRWa+9Zr/WdppmL1Mo7FPZZTJAFO0jbU9Nwe5nbcePA7BP9d/x8MM49P773Yu9tRUVmzdj9Zw5uGbfPuiGyLWdiGg4YKKQiIiIBlTVzz8jd/lyWE0maIOC4JOaCoVGg6bCQtRlZkqjqo5+8w0Of/QR8t58E1azGZ6xsfAaNw6iKKJ2716HP/yNVVU4+t13XU6HU7i6wnPsWKi9vLoVo9VshqGoqO8H2wVjdTWqd+7EzkWLULN7tz1GrRbukZHQhYVB5e5uTwwaDGg6fBiGI0ccRkEZioqQ+fLLmPjii5B3Y6qgaLOhfP16bL399jOShK7+/vAcMwZuUVFQnxyp1mE0ovX4cTQfOYKmwkLYLBYU/POfkLu49OOzcOFp/P3hFRd31m0WgwEtZWXSskyphFt4OGQ9mNrr0pNE7UlKrRZFn32GfU8/bT+HBQEu3t5wHz0autBQyJRK2Do6YKyuRuPBgzBWV0sJHNFqxYGXXkLIvHnwTkzs9mMaioux+/HHUbJq1S8rBQGagADoExLgNW4cPGNiIFer0d7UJL0WazMzpWnQLaWlWH355bh45Ur4TZo0JKaDNpeWYvdjjzlcK1x8fOA7YQK8U1PhFhYGtacnIAhob2pCy9GjMBw5AkNxMZoOH7Y3uxFFWE0mHP7wQwTMmoWoG2887+Mqdbouz7uzaauqgrmurlfH2BVRFJHzj384JAllKhV8kpMR9pvfYNTkydAEBMDS3IwTGRkoW7MGFZs3o6OtTdqHq58fXHx8zti3Ljy823G0Hj+OhoIC7Pnzn1H67bcAALmLC3RhYXCPiIBKr4cA+zWnqbAQhqIihy+QjNXV+Pmuu3Dp//43pJK0RERDGROFRERENKDK1qyBzWKBV1wcJrzwAoIuuQRyV1cYioux8aabUJeZCcCe3Nrzl7/AWF2NoNmzMfnVV+EZGwvRZkPN7t1YP3++VGeuw2RCXU4OrGbzWRNnHtHRmLpihTT9+XwMxcVYf+21/XfQpzn6ww/If+cd1B04AAgCfFJSEP/gg/BJS4MuNBRKNzd7sf/mZjQVFqJk1Spkv/aafdQP7Amjsp9+wpibb+7WtLzjGzYg/c47HaZeyxQKBM+di7h774U+IQEaf3+pRiEAtBsMaC4pQdXPPyPr1VfRcvToOacKDkZjbr4ZIXPnnnVbxcaN2LlokbSs1usx5e9/hzYkpNv71/j79zimwo8/xqH//tc+qhRA5PXXY+zChfCMiYE2OBgyhQI2qxWmmhrUZWcj9803Ub52rZQothgM2PmnP+GKDRu61fCitbwcux9/HEdPJmkA+wjCyBtuQMwdd8A7KQkup9VlFG02tB4/jvJ167D36aelUWGGoiLsfvxxzHz/fXiMHt3jYx9oOW+8gdr9+6VlbXAwxj/zDMKvuabLLw1EqxUtx46hIT8fJatWofjzz2E1mRB7992I6OY1QR8fj0t6UKMw69VXUfzpp31uuNRZ5ZYtyFq27JckoUKByOuvR+rSpWdMIR81YQIir78eBe+9h31Ll0pxKDQaTH3zzTPqdnbny4lTqnftQlV6Oiq2bAFEEbqwMCT86U8ImD4dbuHhUJ1M1FqNRhiKinBszRrsf+YZh4Rl9Y4dqNi8GWFXXtnLZ4OIiHqCiUIiIiIaUDaLBSoPD6QsWYKwK6+U6n55jh2LhEWLsKVTEX9jdTXco6Iwcdkyh4RY4KxZGPOHPyDnjTfsK0QRhsOHYaqtPev0Y4VGA6/Y2G7HKLvA3X2Pff+9NL03eO5czPjnP6ENDnZM/JysSeg7fjx8kpMhU6mw/9lnpc1Nhw+jPjcX3klJ5xzdZaypQfbrr58x9TLyxhsx/Z//hFKjOev9Ve7u8E5Kgj4hAeFXX41td9yBsp9+6vvBDyBNYCA0gYFn3dZcXOywLFMq4RkTA/eoqAsaU/bf/gbRaoVCp8Okl19G7B13nDGKUaZQ2GMPCIBnbCzWzJuHhvx8aXvF5s0wFBVJTWbOpXDlSpR+/bVDEir5ySeRtnRpl6MnBZkMupAQjL31VvhPn44fLr5YSjLX7NyJ0q+/RuKiRQ6J5cHGZrGg4N//dlgXef31GLNw4TlrDQpyOdwiIuAWEYHgyy5D/MMPo/h//0Pcffd1u/O0Uqfr0YjPHpUQ6AZRFLH78cfR3tgorfOMjcXUt96yj6A8nSDA1c8PKU88AUtLC7JefhmAfURm1c8/I/Wpp3ody/G1a6VrnVdcHH711VfwGD36jN+BQqOBPjERXnFxUOv1SL/jDmmbubERFVu2IHTevEF9zhERDRfdq8hLRERE1I8CZs5ExLXXnvHHov/UqQ7LMpUK0QsWwDsh4Yx9+E6c6LBsrq93GIUymIk2G5Q6HRL+9CfM+fZb6EJCzjk6TFAoEHP77fAaN+6XfVitqMnIgO1cjRlEEcfXr0f19u2/7EsmQ8i8eZjxr39BqdWedwqpIJNBGxSEGf/6F3wnTOj+QdJZiVYrdGFhmPneexh3993nnuosCHALC0P8ww+fthMRldu2nfexmoqKkPnKK1KSUKZUIuaOO5D4yCPdmmItyGTwGD0aE154AQqtFoA9AVfy1Vcw1dae9/7O1HDwoENdPsB+3eluQxLA/nx5JyZi4osvDpn6p4D9SwSH0gmCgClvvHH2JGEnglyOxIcf/qUOpSii9JtvYDhypNexiDYb5Go1Ri9YgKszMuA5Zsx5E7Uxt90Gv4su6rQTEU2HDg36c46IaLhgopCIiIgGXMJDD511+pouNNRh2cXbG+HXXnvWkTzaoCCHJJeto6Nb3UwHA5WHBxL+9CeMf+65bo9SUnt6wic11WGdoajonMdsbW9H0WefwXKyzhxg71g6+dVXodBoehSzq5+ffZog9Yk2JAQXvfEGIubP7/boqJA5c85IrjQePHje++1avNhhVJl7VBQSFy8+b8KoM0EmQ/Ds2Q7nXu3+/d1qwuJMZ3tdnCpVMNzV7t3rUOdPGxyMgBkzunVfpZsb/KdPl5Zbjh5FQ15er2MRFApEL1iAScuW2Ucvd+c+goDg07pGt1VW2rt0ExHRBcdEIREREQ047WkJwVNkCoVDQkSmUnU5LU+Qyx1uK9psF6Rr54XgOXYsxt19t31EXzcptFp4xcc7JJdajx8HzlHXrMNotNcGO0mQyRAxf/6QqC83XMXdey/CrrqqR9PbdcHB0J82qra1vPyc92mtqED5unUO68bceusZ9em6QxMUhFETJ0qvN1t7O6pPNuEZrDzGjDlj1GThRx+d93kbDow1NQ4jjb1iY7t9vslUKrhFREjL5oYGh9qmPaXQaJD02GPQdlECoCujpkxx+BLFNIRGjBMRDXVMFBIRERENMJlS2eMOwoJMBlc/P4f7WZqb7fW/ulCzcyc6WlulZZdRo+A/bVqPOvtS/1K6u/do+isAQBDgeVqNTYvBcM7EeM3u3Q7NewSZDKNvuqlX3YoFQYDvxIkQOiWbKrdu7fF+BpJSo8HYW291ON6KrVux8Xe/w/FNm9BWVYUOo3HIfLkwkDpfU0Sb7dzlDc5DEARp2npPuOj1DiOYrUZjt5tRERFR37CZCREREdEQcfqIy/NNtT52WvMRtZfXL/XHaEg5PbEswp7Q6aq2ZfWOHQ4NTGQqFWwWS6/rzZ2epGk6fLhX+xlIKU8+ifqcHFTv3GlPCIoiqtLTsfryy+GTkoJREyfCJzUV7tHRcA8Ph2tAwAVvZDQQTh3HqS7lDQUFsHV0dOvYbO3taCktlZblLi72LuwDTJDJHOIdSiPGiYiGuqH/TkhEREQ0Qggy2TmbnpzuxN69DssqT09oQ0L6OywaAD1JYNmsVntCsFNixWoyYd011/T68TtaWyF2ShZ2nNYoZDDShoRg6ptvYtdjj6Fi40ZpvdjRgRN79uDEnj1QaLVw8faG2tsb2qAg+I4fj+CTicSz1VEdCrwTE+2jhk9O1W0tL0f1zp0I6FR7sCuW1lZU79ghLbv6+cEtPPxChdo1Qej5yFsiIuoXTBQSERERDSU9SBR2bmQBACp3dyhcXfs7IhpkRIsFNrP5jPX1OTn9+CCDf3SXIJPBJzUVc3/6CTl/+xty//EPmOrqYOvokOLvaG1FS2srWo4dQ92BAzj2ww/Y99e/wi08HFE33YRx99wDTUBAt5sODQaesbHwSUlBxebN9hWiiJ2LF+PKTZug1Om6vJ9oteLgv/6FpsJCaZ0uJASe0dEXOmQiIhpE+DUNERER0TB1aurhKRyhMzKIonjO2pX9wdXP74Luvz/JlUokP/EErsvLw8z//hdRN94IfUIC1F5eXY7QbS4tRebLL+PLxERsf+gh1O7fP8BR954gCJj8+uvQBARI6+ozM7Fz0SI0Hz161vuY6uuRu2IF9j3zzC/7kckwesGCIfW7JiKivuOIQiIiIqJhSnba1MmhMF2U+k6mUEDWqTs2APhddJG9uUc/6apz+WDmotcj+ve/R+T8+WgqKkJLWQzAVh0AAA2kSURBVBkMRUWoz85GXVYWGvLyzuis297UhIJ330VVejpSn3oKUTfc4KToe8YnORkTXnwRuxYvhrm+HjaLBYUrV6Lx4EGEX3MNfCdMgMbPD5aWFtTu24eyNWtQvm7dL7UoBQGxd92F6AULetUAh4iIhi4mComIiIiGKV1ICBrz86Vlq9mMDpMJih52XKahRaZQQKXXO6wTbTbE3HabkyIaXOQuLtDHx0MfHw/RZoPY0QFbRwfM9fU4+sMPOPjee/YRhKdGZYoiGnJz8fPdd0MbGAj/adOcewDdFP3736OtshL7n3kGVrMZVpMJVenpqNm1y94YSS6HKIqwWSz2BOHJ4xUUCiQ99hjGP/00O6QTEY1AnH9CRERENEx5xcU5LJvr6mAoLnZSNIPMaSPuADh0CR7SBAF+kyY5TDU/sW8fzE1N9tFh/fUzDAgyGWQqFRQaDbTBwRh39924eudOzPnxR4y66CIInc4Tc2MjDv3nP7Cepf7jYFSZno7ClSthNZshUyqhDQqCXK2GzWJBh9EIS0sLOlpbYWtvhyAIUHl6wic1FVOXL0fqkiVMEhIRjVAcUUhEREQ0TPmkpDgsm2pr0XToEPSnJRBHIpW7u8OyaLXC0tLipGj636gpUwCZDDiZ/BQtFpStXo3Rv/udkyMb/GRKJULnzoV3YiK2LFyI4xs22DeIIhoPH0ZbZaVzOgH3wIl9+/DzPfeg6fBhCHI5EhYtQshll6Hx4EHU5+aipawMHW1tEORyuI4aBY8xY+A5Zgz8pk6Fjp3RiYhGNCYKiYiIiIapoNmzodBopLpr7Y2NqNm9G6FXXAH5afULRxqv2FiHZavZjLbKSuC05OpQpY+Lg4uvL4yVldK63DffRMi8eVB7ejoxsqFDGxSE+Ice+iVRCMBcWwtzQ8OgThRazWZsf+ABNB0+DACIuvFGpD39NBSurgi8+GJ0GI3oMBohWq0QBAEytRpKjQaCgn8aEhERpx4TERERDVtqLy+HemqizYbSb75Bc2lpj/Yj2mw4sXcvWo8d6+cIncfVz8+hm2tHaysaCwp+qUs3xMmUSox/5hmHqbP1WVko+Ne/zuiGPRzZOjrQWlEBW0dHn/bj4uXluEIm67JT8mBxYt8+NOTlSctRv/0tFK6u9gVBgEKjgYu3N1xHjYKLry9U7u5MEhIRkYSJQiIiIqJhSqZUIuzqq39JEgBoOnwY+599Fub6+m7tQ7TZcGz1amx/8EE0Hjp0oUJ1Ct8JE6T/W81mlK9fj7aqKidG1L/GLlyIwFmzpOUOoxG5b7xhTxZarT3eX1tFxdA4B0QRJatW4cfZs5H/zjto6W2CWxRR/H//57BK4+cHF1/ffgjywmk+cgTiqe7FgH2kLBERUTcxUUhEREQ0TAkymb3W2mnTaYs//xxbb7sNTUVF57y/qa4O+597Dul33onavXsvZKhOEX711Q4NP6q2bUPOG29A7MaoQlEU0W4wXMjw+kymVCJlyRLowsKkdW2Vldjz1FPY/sADMJSUdGs/luZmFK5ciXXXXos9f/kL2puaLlTI/aIuKwv7n38ejQUFyHjySayfPx+5y5fDVFvb7X2INhsOffABDr3/vrROkMvhO2ECNP7+FyLsfqPW6x1Gkma98grqc3OdGBEREQ0lHGNORERENIy5hYdj3D33oPbAAViNRgD2xh2l33yD6l27EP/AA4j67W+hDQyU7mOsqcGRL79EwTvvoKmwEIA96ejq5zesRif5T58OfUIC6rKyANhH3GW98goq09Mx/plnMGriRIfRmKIooq2qCuVr16Jw5UpAEHDVtm3OCr9bAmbNwsQXX8TP992H9sZGAPZalQXvvIMjX3yBMbfcgqgbb4Q+IQEyudzezVgUIYoiWisrceSLL+yj8k5OV1cXFqJ8/XpEXnedE4+qazaLBcWff47GgwcB2KeUn9i7Fyf27sXep59G5PXXI/oPf4B3YiLkLi72acSnphKfPG5DcTGyX3sNhR9/7DBNW63XY9w99zgk4QYjvylToHR3l5rzGIqK8PX48Yi47jqEzJ0L3/HjodBquzwOhYsLZGo1ZAoFBEGAIJMN+mMmIqL+w0QhERER0TA3+ne/Q2t5ObJfew2mujppvbGqCnuWLMGeJUug8vSUkgHm+nqHWn0qT0/E3nkn3KOikH7XXQMe/4XiERWFpMcew46HHnIYbVazcydWX3YZlDodtEFBEJRKiBYLTPX1MJ04Id1Orlaj5ehRhxF7g40gCBj9u99B7uqKjCeesCd+T/5uzXV1yHn9deS8/jpUXl5wCw2F3NUVtvZ2tJSXw1xbC/Fk1+RTbBYLDEVFsJrNg7IhjkypRNKjj0Lt7Y2SL79EfU6OQzOfg//+Nw7++9+QKZXQhYZCFxpqT5rJZLCaTGgqLETzaSMtBbkcXuPG4aLly+EWEeGMw+oRtZcXZrz/Prbfc49Uj9RqNqPok09Q9Mkn3dqHIJdDFxoKz9hYeI0bB5/UVPhNngxdWJjDKFwiIhp+mCgkIiIiGuYEmQyJjzwCbWgoMl98EQ35+Wc07Tg12ux0XuPGIWXJEoRdeSXqOzVIGA4EuRwR8+ejvbkZ+5YuhbGmxmG7paXlnDX5bFYrKtPTET2IE4WnRFxzDTQBATj473/jyBdfSKPNTmlvaEBdQ0OX95cpFBg1eTJibr8dIXPnDsok4SlqvR5JjzyCyPnzUb5uHYr+9z9Ubt3qcM7bLBYYiothKC4+577kLi6IvP56JCxaBJ/k5Asder8JnTMHWLECGU88gfqcnB7fX7Ra0VxSguaSEpStXg25Wo1RkycjcfFihM6bxxGGRETDGBOFRERERCOATKHA6Jtugv9FFyH/7beRu2IFrCdHWp2N0s0Ncfffj/gHH4Srnx8EQXCYnjxcyNVqxN5+OwJnzULG44/j2OrVsHVqBHE2Sp0O/jNmYOyttyJ07twBirTv/CZPhk9KCuIfegiZy5ahbPXqLhPEpwhyOUKvvBJJixfDOzkZCo1myIwoc4uIQMwddyB6wQI0FRUh/+23cWTVKpg7jartikylQsjllyPp8cfhm5YGuYvLAETcf0RRRMWmTVLpgL6yms2o3LYNLceOwT0qCl7jxvXLfomIaPARxO5UayYiIiLqJfFk3a/OBEGw1wY7C1unqY4C0HVSQhRh67Tfc962h06PWQAca5n1dH82Gzo/A72N9WzPpayXx2yur0dVejpOHDiA1rIyiDYbXE92c/WbOhX+U6fCxcfnnI/fn8/5oHCyBmFNRgZO7NmDtupq2NrbIVepoNBq4RYRAe/kZPgkJ0Pl4dG9XfbX776f9tOZ1WRCfW4uqnfsQOOhQ/YpuqIIhUYDj+hoeMbGwiclBa5+fn16nMHEajLBUFyM+txcNOTloa26GlaTCYJcDqVWC4/oaHjFx0MfH29/PfTyNd8Tp/9ugd6/rgGg+dgx7HzoIZR+8w0gCHALC0PKkiUImj0bhuJitJSVwdLSAvEsna9Fmw0WgwGGkhIYiorQcvQo2iorHW6b9OijmPTKK2c/lv66Rpx2fQcAWR+uwURE1H1MFBIREREREQ0DxhMnsHPRIhR/9hlEqxU+aWmY8ve/I2D69B7vy2axoGLzZmQ8+SRq9++X1usTE3HdyQZAREQ0/Ayjr4CJiIiIiIhGrurt21H69dcQrVao3N0x7p574D91aq/2JVMqEXTppfZmOJ1qUrYcO9Zf4RIR0SDERCEREREREdEQJ9psOPbTT+hobQUAuPr5wX/atD5NURfkcmgCAiAofiltr9Bo+hwrERENXkwUEhERERERDXWiCEOn5iUypRIKV9c+7dJmsaChoAC29nZpXcDMmX3aJxERDW5MFBIREREREQ0DCq1W+r+xuhon9u3r0/7qsrJQsmqV1AlcrlYjesGCPu2TiIgGNyYKiYiIiIiIhjhBJkPAjBnSsqmuDnlvvYXWigqgh/0rRZsNtZmZ2HjTTWgsKJDWh8yZg1ETJ/ZbzERENPiw6zEREREREdEwUJORgY033YTmkhJpnXdyMuIffBA+KSlwGTUKLj4+kKtUDvezWSywNDfDeOIEmg4fRunXX+PQhx8CNpt0G98JEzBtxQr4TpgwYMdDREQDj4lCIiIiIiKiYcBqMuHge+9h16OPwmoySetlCgXcR4+GJjAQGn9/uPr52TsZCwJs7e0w1v5/O3eM00YQhmH424WNhdYoNHFjWZESKTRpKHIOOqg4ABXX4ACchZImZ3BFQREplrBJsYrshI3tFJGCo/Rs5DxPPSP9076amVm+PzxkPpmkub3NY9P83rvT6+XN6WneX1zk1dFRUhRdHA2AZyIUAgAAbIlV2+bzzU0+np//cbNwU1GWT8Fvvc564+bgpr3BIB8uL/P25CTVxv+HAGwvoRAAAGDLLKbTjK+u8un6OvPJJI9Nkx/zedbL5d+LiyI7vV6quk61v596NMrr4+O8OzvL3mDw/MMD0BmhEAAAYEt9m83yZTzO17u7LO7vs5hO0zZNVstliqJIWVV5cXCQejhMPRymPxrl5eFhqn6/69EB6IBQCAAA8J9YtW1WbfvruXFRpCjLlFWVcne369EA+AcIhQAAAABAyq4HAAAAAAC6JxQCAAAAAEIhAAAAACAUAgAAAAARCgEAAACACIUAAAAAQJKfy+O60L4mBW0AAAAASUVORK5CYII=)"
      ]
    },
    {
      "cell_type": "code",
      "execution_count": null,
      "id": "b07a47ce",
      "metadata": {
        "id": "b07a47ce"
      },
      "outputs": [],
      "source": [
        "def q_learning(env, alpha=1.0, gamma=0.99, initial_epsilon=1.0, n_episodes=10000):\n",
        "    ####### Hyperparameters\n",
        "    # alpha = learning rate\n",
        "    # gamma = discount factor\n",
        "    # initial_epsilon = initial epsilon value\n",
        "    # n_episodes = number of episodes\n",
        "\n",
        "    tile_features = TileCoding(env)\n",
        "\n",
        "    # Initialize weights randomly\n",
        "    n_actions = env.num_actions\n",
        "    n_features = env.height*env.width\n",
        "    weights = np.random.random((n_actions, n_features))\n",
        "\n",
        "    # init epsilon\n",
        "    epsilon = initial_epsilon\n",
        "\n",
        "    received_first_reward = False\n",
        "\n",
        "    #evaluation\n",
        "    evaluation_rewards = []\n",
        "    mean_evaluation_rewards = []\n",
        "    window = 100\n",
        "\n",
        "    for ep in range(n_episodes):\n",
        "        state = env.reset()\n",
        "        done = False\n",
        "        while not done:\n",
        "            if random.random() < epsilon:\n",
        "                #print(\"exploration\")\n",
        "                action = env.action_space.sample() # Explore action space\n",
        "            else:\n",
        "                #print(\"exploitation\")\n",
        "                # TODO choose greedy action\n",
        "                action = ...\n",
        "\n",
        "            ############## simulate the action\n",
        "            next_state, reward, terminated, truncated, info = env.step(action)\n",
        "            done = terminated or truncated\n",
        "            #env.render()\n",
        "\n",
        "            # TODO update weights\n",
        "            weights[action] = ...\n",
        "\n",
        "            if not received_first_reward and reward > 0:\n",
        "                received_first_reward = True\n",
        "                print(\"Received first reward at episode \", ep)\n",
        "            #update current state\n",
        "            state = next_state\n",
        "\n",
        "        #update current epsilon\n",
        "        if received_first_reward:\n",
        "            epsilon= 0.9999*epsilon\n",
        "\n",
        "        #evaluate policy\n",
        "        evaluation_rewards.append( evaluate_q_lvfa(env, weights, n_episodes=5) )\n",
        "        mean_evaluation_rewards.append(mean(evaluation_rewards[-window: ]))\n",
        "\n",
        "\n",
        "    plt.plot(mean_evaluation_rewards)\n",
        "\n",
        "    print(\"Training finished in {} episodes\\n\".format(n_episodes))\n",
        "    return weights\n"
      ]
    },
    {
      "cell_type": "markdown",
      "id": "2123e9d0",
      "metadata": {
        "id": "2123e9d0"
      },
      "source": [
        "## test"
      ]
    },
    {
      "cell_type": "code",
      "execution_count": null,
      "id": "1995f742",
      "metadata": {
        "id": "1995f742"
      },
      "outputs": [],
      "source": [
        "#define the env\n",
        "env = NonDeterministicGridWorld(5,5, reward_type=\"sparse\")"
      ]
    },
    {
      "cell_type": "code",
      "execution_count": null,
      "id": "5d8edea7",
      "metadata": {
        "colab": {
          "base_uri": "https://localhost:8080/",
          "height": 482
        },
        "id": "5d8edea7",
        "outputId": "a57e0edb-dacc-40f1-a565-f2b6432c713b"
      },
      "outputs": [],
      "source": [
        "## Q learning\n",
        "weights = q_learning(env, alpha=0.2, initial_epsilon=0.8, n_episodes=100)\n"
      ]
    },
    {
      "cell_type": "markdown",
      "id": "a5c5160e",
      "metadata": {
        "id": "a5c5160e"
      },
      "source": [
        "## Evaluate policy"
      ]
    },
    {
      "cell_type": "markdown",
      "id": "a037ade3",
      "metadata": {
        "id": "a037ade3"
      },
      "source": [
        "## Render the agent behaviour"
      ]
    },
    {
      "cell_type": "code",
      "execution_count": null,
      "id": "df1e9d0a",
      "metadata": {
        "colab": {
          "base_uri": "https://localhost:8080/"
        },
        "id": "df1e9d0a",
        "outputId": "f31564d4-f802-42ef-f599-5353bd70b8dd"
      },
      "outputs": [],
      "source": [
        "mean_cum_rew = evaluate_q_lvfa(env, weights, render=True)"
      ]
    },
    {
      "cell_type": "code",
      "execution_count": null,
      "id": "KOQS6DAD5YC8",
      "metadata": {
        "id": "KOQS6DAD5YC8"
      },
      "outputs": [],
      "source": []
    }
  ],
  "metadata": {
    "colab": {
      "provenance": []
    },
    "kernelspec": {
      "display_name": "Python 3 (ipykernel)",
      "language": "python",
      "name": "python3"
    },
    "language_info": {
      "codemirror_mode": {
        "name": "ipython",
        "version": 3
      },
      "file_extension": ".py",
      "mimetype": "text/x-python",
      "name": "python",
      "nbconvert_exporter": "python",
      "pygments_lexer": "ipython3",
      "version": "3.8.17"
    }
  },
  "nbformat": 4,
  "nbformat_minor": 5
}
