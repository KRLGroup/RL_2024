{
 "cells": [
  {
   "cell_type": "markdown",
   "id": "29a7378c",
   "metadata": {},
   "source": [
    "# Soft Actor Critic (SAC): Off-Policy Maximum Entropy Deep Reinforcement Learning with a Stochastic Actor"
   ]
  },
  {
   "cell_type": "code",
   "execution_count": null,
   "id": "ef74a2b3",
   "metadata": {},
   "outputs": [],
   "source": [
    "#install\n",
    "#!pip install gymnasium==0.29.1"
   ]
  },
  {
   "cell_type": "markdown",
   "id": "cc033bcb",
   "metadata": {},
   "source": [
    "imports"
   ]
  },
  {
   "cell_type": "code",
   "execution_count": null,
   "id": "f4f0c8f4",
   "metadata": {},
   "outputs": [],
   "source": [
    "import math\n",
    "import random\n",
    "\n",
    "import gymnasium as gym\n",
    "import numpy as np\n",
    "\n",
    "import torch\n",
    "import torch.nn as nn\n",
    "import torch.optim as optim\n",
    "import torch.nn.functional as F\n",
    "from torch.distributions import Normal\n",
    "\n",
    "\n",
    "from IPython.display import clear_output\n",
    "import matplotlib.pyplot as plt\n",
    "%matplotlib inline\n"
   ]
  },
  {
   "cell_type": "markdown",
   "id": "11d39e17",
   "metadata": {},
   "source": [
    "use cuda"
   ]
  },
  {
   "cell_type": "code",
   "execution_count": null,
   "id": "19114613",
   "metadata": {},
   "outputs": [],
   "source": [
    "use_cuda = torch.cuda.is_available()\n",
    "device   = torch.device(\"cuda\" if use_cuda else \"cpu\")\n",
    "print(device)"
   ]
  },
  {
   "cell_type": "markdown",
   "id": "b326ac1e",
   "metadata": {},
   "source": [
    "Replay buffer"
   ]
  },
  {
   "cell_type": "code",
   "execution_count": null,
   "id": "577fc317",
   "metadata": {},
   "outputs": [],
   "source": [
    "class ReplayBuffer:\n",
    "    def __init__(self, capacity):\n",
    "        self.capacity = capacity\n",
    "        self.buffer = []\n",
    "        self.position = 0\n",
    "    \n",
    "    def push(self, state, action, reward, next_state, done):\n",
    "        if len(self.buffer) < self.capacity:\n",
    "            self.buffer.append(None)\n",
    "        self.buffer[self.position] = (state, action, reward, next_state, done)\n",
    "        self.position = (self.position + 1) % self.capacity\n",
    "    \n",
    "    def sample(self, batch_size):\n",
    "        batch = random.sample(self.buffer, batch_size)\n",
    "        state, action, reward, next_state, done = map(np.stack, zip(*batch))\n",
    "        return state, action, reward, next_state, done\n",
    "    \n",
    "    def __len__(self):\n",
    "        return len(self.buffer)"
   ]
  },
  {
   "cell_type": "markdown",
   "id": "23eb8881",
   "metadata": {},
   "source": [
    "Define an env wrapper to normalize the actions"
   ]
  },
  {
   "cell_type": "code",
   "execution_count": null,
   "id": "144c25ac",
   "metadata": {},
   "outputs": [],
   "source": [
    "class NormalizedActions(gym.ActionWrapper):\n",
    "    def action(self, action):\n",
    "        low  = self.action_space.low\n",
    "        high = self.action_space.high\n",
    "        \n",
    "        action = low + (action + 1.0) * 0.5 * (high - low)\n",
    "        action = np.clip(action, low, high)\n",
    "        \n",
    "        return action\n",
    "\n",
    "    def reverse_action(self, action):\n",
    "        low  = self.action_space.low\n",
    "        high = self.action_space.high\n",
    "        \n",
    "        action = 2 * (action - low) / (high - low) - 1\n",
    "        action = np.clip(action, low, high)\n",
    "        \n",
    "        return actions\n"
   ]
  },
  {
   "cell_type": "markdown",
   "id": "518a307c",
   "metadata": {},
   "source": [
    "plot utility"
   ]
  },
  {
   "cell_type": "code",
   "execution_count": null,
   "id": "9ef959d8",
   "metadata": {},
   "outputs": [],
   "source": [
    "def plot(frame_idx, rewards):\n",
    "    clear_output(True)\n",
    "    plt.figure(figsize=(20,5))\n",
    "    plt.subplot(131)\n",
    "    plt.title('frame %s. reward: %s' % (frame_idx, rewards[-1]))\n",
    "    plt.plot(rewards)\n",
    "    plt.show()\n"
   ]
  },
  {
   "cell_type": "markdown",
   "id": "a24f71e4",
   "metadata": {},
   "source": [
    "## Networks design"
   ]
  },
  {
   "cell_type": "code",
   "execution_count": null,
   "id": "f840605c",
   "metadata": {},
   "outputs": [],
   "source": [
    "class ValueNetwork(nn.Module):\n",
    "    def __init__(self, state_dim, hidden_dim, init_w=3e-3):\n",
    "        super(ValueNetwork, self).__init__()\n",
    "        \n",
    "        self.linear1 = nn.Linear(state_dim, hidden_dim)\n",
    "        self.linear2 = nn.Linear(hidden_dim, hidden_dim)\n",
    "        self.linear3 = nn.Linear(hidden_dim, 1)\n",
    "        \n",
    "        self.linear3.weight.data.uniform_(-init_w, init_w)\n",
    "        self.linear3.bias.data.uniform_(-init_w, init_w)\n",
    "        \n",
    "    def forward(self, state):\n",
    "        x = F.relu(self.linear1(state))\n",
    "        x = F.relu(self.linear2(x))\n",
    "        x = self.linear3(x)\n",
    "        return x\n",
    "        \n",
    "        \n",
    "class SoftQNetwork(nn.Module):\n",
    "    def __init__(self, num_inputs, num_actions, hidden_size, init_w=3e-3):\n",
    "        super(SoftQNetwork, self).__init__()\n",
    "        \n",
    "        self.linear1 = nn.Linear(num_inputs + num_actions, hidden_size)\n",
    "        self.linear2 = nn.Linear(hidden_size, hidden_size)\n",
    "        self.linear3 = nn.Linear(hidden_size, 1)\n",
    "        \n",
    "        self.linear3.weight.data.uniform_(-init_w, init_w)\n",
    "        self.linear3.bias.data.uniform_(-init_w, init_w)\n",
    "        \n",
    "    def forward(self, state, action):\n",
    "        x = torch.cat([state, action], 1)\n",
    "        x = F.relu(self.linear1(x))\n",
    "        x = F.relu(self.linear2(x))\n",
    "        x = self.linear3(x)\n",
    "        return x\n",
    "        \n",
    "        \n",
    "class PolicyNetwork(nn.Module):\n",
    "    def __init__(self, num_inputs, num_actions, hidden_size, init_w=3e-3, log_std_min=-20, log_std_max=2):\n",
    "        super(PolicyNetwork, self).__init__()\n",
    "        \n",
    "        self.log_std_min = log_std_min\n",
    "        self.log_std_max = log_std_max\n",
    "        \n",
    "        self.linear1 = nn.Linear(num_inputs, hidden_size)\n",
    "        self.linear2 = nn.Linear(hidden_size, hidden_size)\n",
    "        \n",
    "        self.mean_linear = nn.Linear(hidden_size, num_actions)\n",
    "        self.mean_linear.weight.data.uniform_(-init_w, init_w)\n",
    "        self.mean_linear.bias.data.uniform_(-init_w, init_w)\n",
    "        \n",
    "        self.log_std_linear = nn.Linear(hidden_size, num_actions)\n",
    "        self.log_std_linear.weight.data.uniform_(-init_w, init_w)\n",
    "        self.log_std_linear.bias.data.uniform_(-init_w, init_w)\n",
    "        \n",
    "    def forward(self, state):\n",
    "        x = F.relu(self.linear1(state))\n",
    "        x = F.relu(self.linear2(x))\n",
    "        \n",
    "        mean    = self.mean_linear(x)\n",
    "        log_std = self.log_std_linear(x)\n",
    "        log_std = torch.clamp(log_std, self.log_std_min, self.log_std_max)\n",
    "        \n",
    "        return mean, log_std\n",
    "    \n",
    "    def evaluate(self, state, epsilon=1e-6):\n",
    "        mean, log_std = self.forward(state)\n",
    "        std = log_std.exp()\n",
    "        ##### TODO ####\n",
    "        #\n",
    "        #z = ??\n",
    "        #action=??\n",
    "        #\n",
    "        \n",
    "        #activate\n",
    "        action = torch.tanh(action)\n",
    "        log_prob = Normal(mean, std).log_prob(mean+ std*z.to(device)) - torch.log(1 - action.pow(2) + epsilon) #second term is and adjustment that compensates for the squeezing of the tanh transformation\n",
    "        \n",
    "        return action, log_prob, z, mean, log_std      \n",
    "    \n",
    "    def get_action(self, state):\n",
    "        state = torch.FloatTensor(state).unsqueeze(0).to(device)\n",
    "        mean, log_std = self.forward(state)\n",
    "        std = log_std.exp()\n",
    "        ### TODO ###\n",
    "        #\n",
    "        #action = sample from a gaussian with mean and std with the reparametrization trick\n",
    "        #\n",
    "        \n",
    "        #activate\n",
    "        action = torch.tanh(action)\n",
    "        \n",
    "        action  = action.cpu().detach().numpy()\n",
    "        return action[0]\n"
   ]
  },
  {
   "cell_type": "markdown",
   "id": "23b6aabc",
   "metadata": {},
   "source": [
    "Update the networks"
   ]
  },
  {
   "cell_type": "code",
   "execution_count": null,
   "id": "5d93bf9d",
   "metadata": {},
   "outputs": [],
   "source": []
  },
  {
   "cell_type": "code",
   "execution_count": null,
   "id": "c0b79d52",
   "metadata": {},
   "outputs": [],
   "source": [
    "def soft_q_update(batch_size,gamma=0.99,soft_tau=1e-2,):\n",
    "    \n",
    "    state, action, reward, next_state, done = replay_buffer.sample(batch_size)\n",
    "\n",
    "    state      = torch.FloatTensor(state).to(device)\n",
    "    next_state = torch.FloatTensor(next_state).to(device)\n",
    "    action     = torch.FloatTensor(action).to(device)\n",
    "    reward     = torch.FloatTensor(reward).unsqueeze(1).to(device)\n",
    "    done       = torch.FloatTensor(np.float32(done)).unsqueeze(1).to(device)\n",
    "\n",
    "    predicted_q_value1 = soft_q_net1(state, action)\n",
    "    predicted_q_value2 = soft_q_net2(state, action)\n",
    "    predicted_value    = value_net(state)\n",
    "    new_action, log_prob, epsilon, mean, log_std = policy_net.evaluate(state)\n",
    "\n",
    "    # Training Value Function\n",
    "    ########## TODO #######\n",
    "    #\n",
    "    # value_loss = ??\n",
    "    #\n",
    "    value_loss = 0\n",
    "\n",
    "    value_optimizer.zero_grad()\n",
    "    value_loss.backward()\n",
    "    value_optimizer.step()\n",
    "    \n",
    "    \n",
    "    # Training Q Function\n",
    "    ######## TODO ######\n",
    "    #\n",
    "    #target_q_value = ??\n",
    "    #\n",
    "    q_value_loss1 = soft_q_criterion1(predicted_q_value1, target_q_value.detach())\n",
    "    q_value_loss2 = soft_q_criterion2(predicted_q_value2, target_q_value.detach())\n",
    "\n",
    "    soft_q_optimizer1.zero_grad()\n",
    "    q_value_loss1.backward()\n",
    "    soft_q_optimizer1.step()\n",
    "    soft_q_optimizer2.zero_grad()\n",
    "    q_value_loss2.backward()\n",
    "    soft_q_optimizer2.step()    \n",
    "    \n",
    "    # Training Policy Function\n",
    "    ######## TODO #######\n",
    "    #\n",
    "    # policy loss = ??\n",
    "    #\n",
    "    policy_loss = 0\n",
    "\n",
    "    policy_optimizer.zero_grad()\n",
    "    policy_loss.backward()\n",
    "    policy_optimizer.step()\n",
    "    \n",
    "    # Update the target Value function parameters\n",
    "    for target_param, param in zip(target_value_net.parameters(), value_net.parameters()):\n",
    "        target_param.data.copy_(\n",
    "            ##### TODO ###\n",
    "            #\n",
    "            # update target parameters using soft_tau\n",
    "            #\n",
    "        )\n",
    "\n",
    "    return (q_value_loss1.item()+q_value_loss2.item())/2 + value_loss.item() + policy_loss.item()"
   ]
  },
  {
   "cell_type": "markdown",
   "id": "0345572c",
   "metadata": {},
   "source": [
    "## Test on pendulum"
   ]
  },
  {
   "cell_type": "markdown",
   "id": "cced822f",
   "metadata": {},
   "source": [
    "Define the env"
   ]
  },
  {
   "cell_type": "code",
   "execution_count": null,
   "id": "61cadc53",
   "metadata": {},
   "outputs": [],
   "source": [
    "env = NormalizedActions(gym.make(\"Pendulum-v1\"))\n",
    "\n",
    "action_dim = env.action_space.shape[0]\n",
    "state_dim  = env.observation_space.shape[0]\n",
    "\n",
    "print(action_dim)\n",
    "print(state_dim)"
   ]
  },
  {
   "cell_type": "markdown",
   "id": "22de51db",
   "metadata": {},
   "source": [
    "Define networks, optimizer and replay buffer"
   ]
  },
  {
   "cell_type": "code",
   "execution_count": null,
   "id": "4705e07c",
   "metadata": {},
   "outputs": [],
   "source": [
    "\n",
    "\n",
    "\n",
    "hidden_dim = 256\n",
    "\n",
    "value_net = ValueNetwork(state_dim, hidden_dim).to(device)\n",
    "target_value_net = ValueNetwork(state_dim, hidden_dim).to(device)\n",
    "value_net.train()\n",
    "target_value_net.train()\n",
    "\n",
    "soft_q_net1 = SoftQNetwork(state_dim, action_dim, hidden_dim).to(device)\n",
    "soft_q_net2 = SoftQNetwork(state_dim, action_dim, hidden_dim).to(device)\n",
    "policy_net = PolicyNetwork(state_dim, action_dim, hidden_dim).to(device)\n",
    "soft_q_net1.train()\n",
    "soft_q_net2.train()\n",
    "policy_net.train()\n",
    "\n",
    "for target_param, param in zip(target_value_net.parameters(), value_net.parameters()):\n",
    "    target_param.data.copy_(param.data)\n",
    "    \n",
    "\n",
    "value_criterion  = nn.MSELoss()\n",
    "soft_q_criterion1 = nn.MSELoss()\n",
    "soft_q_criterion2 = nn.MSELoss()\n",
    "lr  = 3e-4\n",
    "\n",
    "value_optimizer  = optim.Adam(value_net.parameters(), lr=lr)\n",
    "soft_q_optimizer1 = optim.Adam(soft_q_net1.parameters(), lr=lr)\n",
    "soft_q_optimizer2 = optim.Adam(soft_q_net2.parameters(), lr=lr)\n",
    "\n",
    "policy_optimizer = optim.Adam(policy_net.parameters(), lr=lr)\n",
    "\n",
    "\n",
    "replay_buffer_size = 1000000\n",
    "replay_buffer = ReplayBuffer(replay_buffer_size)\n",
    "\n"
   ]
  },
  {
   "cell_type": "markdown",
   "id": "dc0f80d4",
   "metadata": {},
   "source": [
    "Training"
   ]
  },
  {
   "cell_type": "code",
   "execution_count": null,
   "id": "c40334a2",
   "metadata": {},
   "outputs": [],
   "source": [
    "max_frames  = 60000\n",
    "max_steps   = 500\n",
    "frame_idx   = 0\n",
    "episode = 0\n",
    "rewards     = []\n",
    "losses = []\n",
    "batch_size  = 128\n",
    "desired_rew = -160\n",
    "window = 50"
   ]
  },
  {
   "cell_type": "code",
   "execution_count": null,
   "id": "51f26cb2",
   "metadata": {},
   "outputs": [],
   "source": [
    "from statistics import mean\n",
    "\n",
    "while frame_idx < max_frames:\n",
    "    state, _ = env.reset()\n",
    "    episode_reward = 0\n",
    "    losses_ep = []\n",
    "    for step in range(max_steps):\n",
    "        ###### TODO ####\n",
    "        #take the action with the policy net\n",
    "        #\n",
    "        #action = ??\n",
    "        action = 0\n",
    "\n",
    "        next_state, reward, terminated, truncated, _= env.step(action)\n",
    "        done = terminated or truncated\n",
    "        \n",
    "        #### TODO ####\n",
    "        #\n",
    "        #put transition in the replay buffer\n",
    "        #\n",
    "\n",
    "        if len(replay_buffer) > batch_size:\n",
    "            loss = soft_q_update(batch_size)\n",
    "            losses_ep.append(loss)\n",
    "        \n",
    "        state = next_state\n",
    "        episode_reward += reward\n",
    "        frame_idx += 1\n",
    "        \n",
    "        if frame_idx % 1000 == 0:\n",
    "            plot(frame_idx, rewards)\n",
    "        \n",
    "        if done:\n",
    "            break\n",
    "    episode += 1\n",
    "\n",
    "    rewards.append(episode_reward)\n",
    "    losses.append(mean(losses_ep))\n",
    "    mean_rewards = mean(rewards[-window:])\n",
    "    mean_loss = mean(losses[-window:])\n",
    "    print(\"\\rEpisode {:d} Mean Rewards {:.2f}  Episode reward = {:.2f}   mean loss = {:.2f}\\t\\t\".format(\n",
    "                            episode, mean_rewards, episode_reward, mean_loss), end=\"\")\n",
    "    #if mean_rewards >= desired_rew:\n",
    "    #    break\n",
    "    if episode == 25:\n",
    "        break"
   ]
  },
  {
   "cell_type": "markdown",
   "id": "8e9a4220",
   "metadata": {},
   "source": [
    "Final test"
   ]
  },
  {
   "cell_type": "code",
   "execution_count": null,
   "id": "1f43fb33",
   "metadata": {},
   "outputs": [],
   "source": [
    "done = False\n",
    "tot_rew = 0\n",
    "env = NormalizedActions(gym.make(\"Pendulum-v1\", render_mode='human'))\n",
    "\n",
    "policy_net.eval()\n",
    "state, _ = env.reset()\n",
    "for step in range(max_steps):\n",
    "    action = policy_net.get_action(state)\n",
    "    next_state, reward, terminated, truncated, _ = env.step(action)\n",
    "    done = terminated or truncated\n",
    "    env.render()\n",
    "    tot_rew += reward\n",
    "    if done:\n",
    "        break\n",
    "    state = next_state\n",
    "print(\"Tot reward in one episode: \", tot_rew)"
   ]
  },
  {
   "cell_type": "code",
   "execution_count": null,
   "id": "b6814c6a",
   "metadata": {},
   "outputs": [],
   "source": []
  }
 ],
 "metadata": {
  "kernelspec": {
   "display_name": "Python 3 (ipykernel)",
   "language": "python",
   "name": "python3"
  },
  "language_info": {
   "codemirror_mode": {
    "name": "ipython",
    "version": 3
   },
   "file_extension": ".py",
   "mimetype": "text/x-python",
   "name": "python",
   "nbconvert_exporter": "python",
   "pygments_lexer": "ipython3",
   "version": "3.8.17"
  }
 },
 "nbformat": 4,
 "nbformat_minor": 5
}
